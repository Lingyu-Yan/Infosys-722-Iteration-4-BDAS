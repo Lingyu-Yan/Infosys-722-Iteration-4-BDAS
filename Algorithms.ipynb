{
 "cells": [
  {
   "cell_type": "code",
   "execution_count": 3,
   "id": "b766d0ea",
   "metadata": {},
   "outputs": [],
   "source": [
    "import findspark\n",
    "findspark.init('/home/ubuntu/spark-3.2.1-bin-hadoop2.7')\n",
    "import pyspark\n",
    "from pyspark.sql import SparkSession\n",
    "spark = SparkSession.builder.appName('algorithms').getOrCreate()"
   ]
  },
  {
   "cell_type": "code",
   "execution_count": 5,
   "id": "cf461605",
   "metadata": {},
   "outputs": [
    {
     "name": "stdout",
     "output_type": "stream",
     "text": [
      "root\n",
      " |-- year: integer (nullable = true)\n",
      " |-- region: integer (nullable = true)\n",
      " |-- gender: integer (nullable = true)\n",
      " |-- year_born: integer (nullable = true)\n",
      " |-- education_tier: integer (nullable = true)\n",
      " |-- marriage_tier: integer (nullable = true)\n",
      " |-- income_tier: integer (nullable = true)\n",
      " |-- occupation_code: integer (nullable = true)\n",
      "\n",
      "Number of columns:  8\n",
      "Total number of rows:  52579\n"
     ]
    }
   ],
   "source": [
    "data = spark.read.load('Korea Income and Welfare Output.csv', format=\"csv\", header=True, inferSchema=True)\n",
    "\n",
    "data.printSchema()\n",
    "\n",
    "print('Number of columns: ', len(data.columns))\n",
    "print('Total number of rows: ', data.count())"
   ]
  },
  {
   "cell_type": "code",
   "execution_count": 6,
   "id": "07e30bb1",
   "metadata": {},
   "outputs": [
    {
     "data": {
      "text/plain": [
       "['year',\n",
       " 'region',\n",
       " 'gender',\n",
       " 'year_born',\n",
       " 'education_tier',\n",
       " 'marriage_tier',\n",
       " 'income_tier',\n",
       " 'occupation_code']"
      ]
     },
     "execution_count": 6,
     "metadata": {},
     "output_type": "execute_result"
    }
   ],
   "source": [
    "data.columns"
   ]
  },
  {
   "cell_type": "code",
   "execution_count": 7,
   "id": "3b273ee6",
   "metadata": {},
   "outputs": [],
   "source": [
    "from pyspark.ml.linalg import Vectors\n",
    "from pyspark.ml.feature import VectorAssembler"
   ]
  },
  {
   "cell_type": "code",
   "execution_count": 10,
   "id": "d7c89751",
   "metadata": {},
   "outputs": [
    {
     "name": "stdout",
     "output_type": "stream",
     "text": [
      "+------------------------------------+------+\n",
      "|features                            |gender|\n",
      "+------------------------------------+------+\n",
      "|[2005.0,1.0,1962.0,2.0,1.0,2.0,51.0]|1     |\n",
      "|[2006.0,1.0,1962.0,2.0,1.0,2.0,51.0]|1     |\n",
      "|[2007.0,1.0,1962.0,2.0,1.0,2.0,51.0]|1     |\n",
      "|[2008.0,1.0,1962.0,2.0,1.0,2.0,53.0]|1     |\n",
      "|[2009.0,1.0,1962.0,2.0,1.0,2.0,53.0]|1     |\n",
      "|[2010.0,1.0,1962.0,2.0,1.0,2.0,53.0]|1     |\n",
      "|[2011.0,1.0,1962.0,2.0,1.0,2.0,53.0]|1     |\n",
      "|[2012.0,1.0,1962.0,2.0,1.0,2.0,53.0]|1     |\n",
      "|[2013.0,1.0,1962.0,2.0,1.0,2.0,53.0]|1     |\n",
      "|[2014.0,1.0,1962.0,2.0,1.0,2.0,53.0]|1     |\n",
      "+------------------------------------+------+\n",
      "only showing top 10 rows\n",
      "\n"
     ]
    }
   ],
   "source": [
    "assembler = VectorAssembler(\n",
    "  inputCols=['year',\n",
    "             'region',\n",
    "             'year_born',\n",
    "             'education_tier',\n",
    "             'marriage_tier',\n",
    "             'income_tier',\n",
    "             'occupation_code'],\n",
    "              outputCol=\"features\")\n",
    "\n",
    "output = assembler.transform(data)\n",
    "final_data = output.select(\"features\",'gender')\n",
    "final_data.show(10, False)"
   ]
  },
  {
   "cell_type": "code",
   "execution_count": 41,
   "id": "437df6a4",
   "metadata": {},
   "outputs": [],
   "source": [
    "from pyspark.ml import Pipeline\n",
    "from pyspark.ml.classification import (DecisionTreeClassifier, RandomForestClassifier)\n",
    "from pyspark.ml.evaluation import MulticlassClassificationEvaluator\n",
    "acc_evaluator = MulticlassClassificationEvaluator(labelCol=\"gender\", predictionCol=\"prediction\", metricName=\"accuracy\")"
   ]
  },
  {
   "cell_type": "code",
   "execution_count": 19,
   "id": "0963e286",
   "metadata": {},
   "outputs": [
    {
     "name": "stdout",
     "output_type": "stream",
     "text": [
      "0.9032503470967497\n"
     ]
    }
   ],
   "source": [
    "dtc = DecisionTreeClassifier(labelCol='gender',featuresCol='features')\n",
    "dtc_model = dtc.fit(final_data)\n",
    "dtc_predictions = dtc_model.transform(final_data)\n",
    "dtc_acc = acc_evaluator.evaluate(dtc_predictions)\n",
    "print(dtc_acc)"
   ]
  },
  {
   "cell_type": "code",
   "execution_count": 39,
   "id": "694a5054",
   "metadata": {},
   "outputs": [
    {
     "name": "stdout",
     "output_type": "stream",
     "text": [
      "0.8875026151124974\n"
     ]
    }
   ],
   "source": [
    "rfc = RandomForestClassifier(labelCol='gender',featuresCol='features')\n",
    "rfc_model_default = rfc.fit(final_data)\n",
    "rfc_predictions_default = rfc_model_default.transform(final_data)\n",
    "rfc_acc_default = acc_evaluator.evaluate(rfc_predictions_default)\n",
    "print(rfc_acc_default)"
   ]
  },
  {
   "cell_type": "code",
   "execution_count": 37,
   "id": "3e1b7476",
   "metadata": {},
   "outputs": [
    {
     "name": "stdout",
     "output_type": "stream",
     "text": [
      "42083\n",
      "10496\n"
     ]
    },
    {
     "name": "stderr",
     "output_type": "stream",
     "text": [
      "\r",
      "[Stage 361:============================>                            (1 + 1) / 2]\r",
      "\r",
      "                                                                                \r"
     ]
    }
   ],
   "source": [
    "(train_data,test_data) = final_data.randomSplit([0.8,0.2])\n",
    "\n",
    "print(train_data.count())\n",
    "print(test_data.count())"
   ]
  },
  {
   "cell_type": "code",
   "execution_count": 38,
   "id": "c832d8de",
   "metadata": {},
   "outputs": [
    {
     "name": "stderr",
     "output_type": "stream",
     "text": [
      "\r",
      "[Stage 371:============================>                            (1 + 1) / 2]\r",
      "\r",
      "                                                                                \r"
     ]
    },
    {
     "name": "stdout",
     "output_type": "stream",
     "text": [
      "+--------------------+------+--------------------+--------------------+----------+\n",
      "|            features|gender|       rawPrediction|         probability|prediction|\n",
      "+--------------------+------+--------------------+--------------------+----------+\n",
      "|[2005.0,1.0,1959....|     2|[0.0,2.0069222610...|[0.0,0.1003461130...|       2.0|\n",
      "|[2005.0,1.0,1959....|     2|[0.0,3.7105316867...|[0.0,0.1855265843...|       2.0|\n",
      "|[2005.0,1.0,1959....|     2|[0.0,3.7105316867...|[0.0,0.1855265843...|       2.0|\n",
      "|[2005.0,1.0,1959....|     1|[0.0,15.102376315...|[0.0,0.7551188157...|       1.0|\n",
      "|[2005.0,1.0,1959....|     2|[0.0,2.0069222610...|[0.0,0.1003461130...|       2.0|\n",
      "|[2005.0,1.0,1959....|     2|[0.0,3.7105316867...|[0.0,0.1855265843...|       2.0|\n",
      "|[2005.0,1.0,1959....|     2|[0.0,2.0069222610...|[0.0,0.1003461130...|       2.0|\n",
      "|[2005.0,1.0,1959....|     2|[0.0,4.1149505927...|[0.0,0.2057475296...|       2.0|\n",
      "|[2005.0,1.0,1959....|     2|[0.0,2.8181178896...|[0.0,0.1409058944...|       2.0|\n",
      "|[2005.0,1.0,1959....|     1|[0.0,17.611420388...|[0.0,0.8805710194...|       1.0|\n",
      "+--------------------+------+--------------------+--------------------+----------+\n",
      "only showing top 10 rows\n",
      "\n",
      "The accuracy is 89.00%.\n"
     ]
    }
   ],
   "source": [
    "rfc = RandomForestClassifier(labelCol='gender',featuresCol='features',numTrees=20)\n",
    "rfc_model = rfc.fit(train_data)\n",
    "rfc_predictions = rfc_model.transform(test_data)\n",
    "rfc_predictions.show(10)\n",
    "\n",
    "rfc_acc = acc_evaluator.evaluate(rfc_predictions)\n",
    "print(\"The accuracy is {0:2.2f}%.\".format(rfc_acc*100))"
   ]
  },
  {
   "cell_type": "code",
   "execution_count": 49,
   "id": "da2ae8d2",
   "metadata": {},
   "outputs": [
    {
     "name": "stdout",
     "output_type": "stream",
     "text": [
      "{'year': 0.003129033607505035, 'region': 0.0023952753195017338, 'year_born': 0.02865657774250069, 'education_tier': 0.004019336624090191, 'marriage_tier': 0.7871454497252872, 'income_tier': 0.08771726772838784, 'occupation_code': 0.08693705925272718}\n"
     ]
    }
   ],
   "source": [
    "importance = rfc_model.featureImportances\n",
    "column_list = data.columns\n",
    "column_list.remove(\"gender\")\n",
    "importanceList = [float(col) for col in importance]\n",
    "final_importance = dict(zip(column_list, importanceList))\n",
    "print(final_importance) "
   ]
  },
  {
   "cell_type": "code",
   "execution_count": 56,
   "id": "57908a15",
   "metadata": {},
   "outputs": [
    {
     "data": {
      "text/plain": [
       "<AxesSubplot:xlabel='income_tier', ylabel='Count'>"
      ]
     },
     "execution_count": 56,
     "metadata": {},
     "output_type": "execute_result"
    },
    {
     "data": {
      "image/png": "[encoded data removed]",
      "text/plain": [
       "<Figure size 432x288 with 1 Axes>"
      ]
     },
     "metadata": {
      "needs_background": "light"
     },
     "output_type": "display_data"
    }
   ],
   "source": [
    "import seaborn as sns\n",
    "pandasdata = data.toPandas()\n",
    "sns.histplot(data = pandasdata, x = \"income_tier\", hue = 'gender', multiple=\"stack\")"
   ]
  },
  {
   "cell_type": "code",
   "execution_count": 57,
   "id": "5330dd21",
   "metadata": {},
   "outputs": [
    {
     "data": {
      "text/plain": [
       "<AxesSubplot:xlabel='marriage_tier', ylabel='Count'>"
      ]
     },
     "execution_count": 57,
     "metadata": {},
     "output_type": "execute_result"
    },
    {
     "data": {
      "image/png": "[encoded data removed]",
      "text/plain": [
       "<Figure size 432x288 with 1 Axes>"
      ]
     },
     "metadata": {
      "needs_background": "light"
     },
     "output_type": "display_data"
    }
   ],
   "source": [
    "sns.histplot(data = pandasdata, x = \"marriage_tier\", hue = 'gender', multiple=\"stack\")"
   ]
  },
  {
   "cell_type": "code",
   "execution_count": 73,
   "id": "4c0226c2",
   "metadata": {},
   "outputs": [
    {
     "name": "stderr",
     "output_type": "stream",
     "text": [
      "                                                                                \r"
     ]
    },
    {
     "name": "stdout",
     "output_type": "stream",
     "text": [
      "+--------------------+------+--------------------+--------------------+----------+\n",
      "|            features|gender|       rawPrediction|         probability|prediction|\n",
      "+--------------------+------+--------------------+--------------------+----------+\n",
      "|[2005.0,1.0,1959....|     2|[0.0,4.9269891162...|[0.0,0.0985397823...|       2.0|\n",
      "|[2005.0,1.0,1959....|     2|[0.0,9.8404904963...|[0.0,0.1968098099...|       2.0|\n",
      "|[2005.0,1.0,1959....|     2|[0.0,9.8404904963...|[0.0,0.1968098099...|       2.0|\n",
      "|[2005.0,1.0,1959....|     1|[0.0,38.845237536...|[0.0,0.7769047507...|       1.0|\n",
      "|[2005.0,1.0,1959....|     2|[0.0,4.9269891162...|[0.0,0.0985397823...|       2.0|\n",
      "|[2005.0,1.0,1959....|     2|[0.0,10.298757486...|[0.0,0.2059751497...|       2.0|\n",
      "|[2005.0,1.0,1959....|     2|[0.0,4.9269891162...|[0.0,0.0985397823...|       2.0|\n",
      "|[2005.0,1.0,1959....|     2|[0.0,11.442280816...|[0.0,0.2288456163...|       2.0|\n",
      "|[2005.0,1.0,1959....|     2|[0.0,7.9998301943...|[0.0,0.1599966038...|       2.0|\n",
      "|[2005.0,1.0,1959....|     1|[0.0,43.735700627...|[0.0,0.8747140125...|       1.0|\n",
      "+--------------------+------+--------------------+--------------------+----------+\n",
      "only showing top 10 rows\n",
      "\n",
      "The accuracy is 88.49%.\n"
     ]
    },
    {
     "name": "stderr",
     "output_type": "stream",
     "text": [
      "\r",
      "[Stage 3138:============================>                           (1 + 1) / 2]\r",
      "\r",
      "                                                                                \r"
     ]
    }
   ],
   "source": [
    "rfc = RandomForestClassifier(labelCol='gender',featuresCol='features',numTrees=50)\n",
    "rfc_model = rfc.fit(train_data)\n",
    "rfc_predictions = rfc_model.transform(test_data)\n",
    "rfc_predictions.show(10)\n",
    "\n",
    "rfc_acc = acc_evaluator.evaluate(rfc_predictions)\n",
    "print(\"The accuracy is {0:2.2f}%.\".format(rfc_acc*100))"
   ]
  }
 ],
 "metadata": {
  "kernelspec": {
   "display_name": "Python 3 (ipykernel)",
   "language": "python",
   "name": "python3"
  },
  "language_info": {
   "codemirror_mode": {
    "name": "ipython",
    "version": 3
   },
   "file_extension": ".py",
   "mimetype": "text/x-python",
   "name": "python",
   "nbconvert_exporter": "python",
   "pygments_lexer": "ipython3",
   "version": "3.10.4"
  }
 },
 "nbformat": 4,
 "nbformat_minor": 5
}
