{
 "cells": [
  {
   "cell_type": "code",
   "execution_count": 13,
   "id": "7c0801cb",
   "metadata": {
    "scrolled": true
   },
   "outputs": [
    {
     "name": "stderr",
     "output_type": "stream",
     "text": [
      "                                                                                \r"
     ]
    }
   ],
   "source": [
    "import findspark\n",
    "findspark.init('/home/ubuntu/spark-3.2.1-bin-hadoop2.7')\n",
    "import pyspark\n",
    "from pyspark.sql import SparkSession\n",
    "spark = SparkSession.builder.appName('Data Understanding').getOrCreate()\n",
    "\n",
    "df = spark.read.load('Korea Income and Welfare.csv', format=\"csv\", header=True, inferSchema=True)"
   ]
  },
  {
   "cell_type": "code",
   "execution_count": 14,
   "id": "be0d97d0",
   "metadata": {
    "scrolled": true
   },
   "outputs": [
    {
     "name": "stdout",
     "output_type": "stream",
     "text": [
      "+-----+----+----+------+-----------+-------------+------+---------+---------------+--------+--------+----------+------------+------------------+\n",
      "|   id|year|wave|region|     income|family_member|gender|year_born|education_level|marriage|religion|occupation|company_size|reason_none_worker|\n",
      "+-----+----+----+------+-----------+-------------+------+---------+---------------+--------+--------+----------+------------+------------------+\n",
      "|10101|2005|   1|     1|      614.0|            1|     2|     1936|              2|       2|       2|          |            |                 8|\n",
      "|10101|2011|   7|     1|      896.0|            1|     2|     1936|              2|       2|       2|          |            |                10|\n",
      "|10101|2012|   8|     1|     1310.0|            1|     2|     1936|              2|       2|       2|          |            |                10|\n",
      "|10101|2013|   9|     1|     2208.0|            1|     2|     1936|              2|       2|       2|          |            |                 1|\n",
      "|10101|2014|  10|     1|      864.0|            1|     2|     1936|              2|       2|       2|          |            |                10|\n",
      "|10101|2015|  11|     1|     1171.0|            1|     2|     1936|              2|       2|       1|          |            |                10|\n",
      "|10101|2016|  12|     1|     1643.0|            1|     2|     1936|              2|       2|       2|          |            |                10|\n",
      "|10101|2017|  13|     1|      851.0|            1|     2|     1936|              2|       2|       2|          |            |                10|\n",
      "|20101|2005|   1|     1|     1257.0|            1|     2|     1945|              4|       2|       2|       421|           1|                  |\n",
      "|20101|2006|   2|     1|-520.062475|            1|     2|     1945|              4|       2|       2|          |            |                 8|\n",
      "|20101|2007|   3|     1|      602.0|            1|     2|     1945|              4|       2|       2|       411|           1|                  |\n",
      "|20101|2008|   4|     1|     1972.0|            1|     2|     1945|              4|       2|       2|       951|           1|                  |\n",
      "|20101|2009|   5|     1|     1638.0|            1|     2|     1945|              4|       2|       1|       951|           1|                  |\n",
      "|20101|2010|   6|     1|     1598.0|            1|     2|     1945|              4|       2|       2|       951|           1|                  |\n",
      "|20101|2011|   7|     1|     1810.0|            1|     2|     1945|              4|       2|       2|          |            |                10|\n",
      "|20101|2012|   8|     1|     2447.0|            1|     2|     1945|              4|       2|       2|          |            |                10|\n",
      "|20101|2013|   9|     1|     2023.0|            1|     2|     1945|              4|       2|       2|       951|           1|                  |\n",
      "|20101|2014|  10|     1|      600.0|            1|     2|     1945|              4|       2|       2|          |            |                10|\n",
      "|20101|2015|  11|     1|     1750.0|            1|     2|     1945|              4|       2|       1|          |            |                10|\n",
      "|20101|2016|  12|     1|     1304.0|            1|     2|     1945|              4|       2|       2|          |            |                10|\n",
      "+-----+----+----+------+-----------+-------------+------+---------+---------------+--------+--------+----------+------------+------------------+\n",
      "only showing top 20 rows\n",
      "\n"
     ]
    }
   ],
   "source": [
    "df.show()"
   ]
  },
  {
   "cell_type": "code",
   "execution_count": 16,
   "id": "09b50831",
   "metadata": {
    "scrolled": true
   },
   "outputs": [
    {
     "name": "stdout",
     "output_type": "stream",
     "text": [
      "Number of columns:  14\n",
      "Total number of rows:  92857\n"
     ]
    }
   ],
   "source": [
    "print('Number of columns: ', len(df.columns))\n",
    "print('Total number of rows: ', df.count())"
   ]
  },
  {
   "cell_type": "code",
   "execution_count": 17,
   "id": "9fd77775",
   "metadata": {},
   "outputs": [
    {
     "data": {
      "text/plain": [
       "['id',\n",
       " 'year',\n",
       " 'wave',\n",
       " 'region',\n",
       " 'income',\n",
       " 'family_member',\n",
       " 'gender',\n",
       " 'year_born',\n",
       " 'education_level',\n",
       " 'marriage',\n",
       " 'religion',\n",
       " 'occupation',\n",
       " 'company_size',\n",
       " 'reason_none_worker']"
      ]
     },
     "execution_count": 17,
     "metadata": {},
     "output_type": "execute_result"
    }
   ],
   "source": [
    "df.columns"
   ]
  },
  {
   "cell_type": "code",
   "execution_count": 18,
   "id": "8c43049d",
   "metadata": {
    "scrolled": true
   },
   "outputs": [
    {
     "name": "stdout",
     "output_type": "stream",
     "text": [
      "root\n",
      " |-- id: integer (nullable = true)\n",
      " |-- year: integer (nullable = true)\n",
      " |-- wave: integer (nullable = true)\n",
      " |-- region: integer (nullable = true)\n",
      " |-- income: double (nullable = true)\n",
      " |-- family_member: integer (nullable = true)\n",
      " |-- gender: integer (nullable = true)\n",
      " |-- year_born: integer (nullable = true)\n",
      " |-- education_level: integer (nullable = true)\n",
      " |-- marriage: integer (nullable = true)\n",
      " |-- religion: integer (nullable = true)\n",
      " |-- occupation: string (nullable = true)\n",
      " |-- company_size: string (nullable = true)\n",
      " |-- reason_none_worker: string (nullable = true)\n",
      "\n"
     ]
    }
   ],
   "source": [
    "df.printSchema()"
   ]
  }
 ],
 "metadata": {
  "kernelspec": {
   "display_name": "Python 3 (ipykernel)",
   "language": "python",
   "name": "python3"
  },
  "language_info": {
   "codemirror_mode": {
    "name": "ipython",
    "version": 3
   },
   "file_extension": ".py",
   "mimetype": "text/x-python",
   "name": "python",
   "nbconvert_exporter": "python",
   "pygments_lexer": "ipython3",
   "version": "3.10.4"
  }
 },
 "nbformat": 4,
 "nbformat_minor": 5
}
