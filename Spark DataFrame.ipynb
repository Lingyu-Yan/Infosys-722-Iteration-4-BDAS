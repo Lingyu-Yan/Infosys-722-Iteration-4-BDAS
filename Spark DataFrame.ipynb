{
 "cells": [
  {
   "cell_type": "code",
   "execution_count": 40,
   "id": "7c0801cb",
   "metadata": {},
   "outputs": [],
   "source": [
    "import findspark\n",
    "findspark.init('/home/ubuntu/spark-3.2.1-bin-hadoop2.7')\n",
    "import pyspark\n",
    "from pyspark.sql import SparkSession\n",
    "spark = SparkSession.builder.appName('Data Understanding').getOrCreate()\n",
    "\n",
    "df = spark.read.load('Korea Income and Welfare.csv', format=\"csv\", header=True, inferSchema=True)"
   ]
  },
  {
   "cell_type": "code",
   "execution_count": 41,
   "id": "be0d97d0",
   "metadata": {},
   "outputs": [
    {
     "name": "stdout",
     "output_type": "stream",
     "text": [
      "+-----+----+----+------+-----------+-------------+------+---------+---------------+--------+--------+----------+------------+------------------+\n",
      "|   id|year|wave|region|     income|family_member|gender|year_born|education_level|marriage|religion|occupation|company_size|reason_none_worker|\n",
      "+-----+----+----+------+-----------+-------------+------+---------+---------------+--------+--------+----------+------------+------------------+\n",
      "|10101|2005|   1|     1|      614.0|            1|     2|     1936|              2|       2|       2|          |            |                 8|\n",
      "|10101|2011|   7|     1|      896.0|            1|     2|     1936|              2|       2|       2|          |            |                10|\n",
      "|10101|2012|   8|     1|     1310.0|            1|     2|     1936|              2|       2|       2|          |            |                10|\n",
      "|10101|2013|   9|     1|     2208.0|            1|     2|     1936|              2|       2|       2|          |            |                 1|\n",
      "|10101|2014|  10|     1|      864.0|            1|     2|     1936|              2|       2|       2|          |            |                10|\n",
      "|10101|2015|  11|     1|     1171.0|            1|     2|     1936|              2|       2|       1|          |            |                10|\n",
      "|10101|2016|  12|     1|     1643.0|            1|     2|     1936|              2|       2|       2|          |            |                10|\n",
      "|10101|2017|  13|     1|      851.0|            1|     2|     1936|              2|       2|       2|          |            |                10|\n",
      "|20101|2005|   1|     1|     1257.0|            1|     2|     1945|              4|       2|       2|       421|           1|                  |\n",
      "|20101|2006|   2|     1|-520.062475|            1|     2|     1945|              4|       2|       2|          |            |                 8|\n",
      "|20101|2007|   3|     1|      602.0|            1|     2|     1945|              4|       2|       2|       411|           1|                  |\n",
      "|20101|2008|   4|     1|     1972.0|            1|     2|     1945|              4|       2|       2|       951|           1|                  |\n",
      "|20101|2009|   5|     1|     1638.0|            1|     2|     1945|              4|       2|       1|       951|           1|                  |\n",
      "|20101|2010|   6|     1|     1598.0|            1|     2|     1945|              4|       2|       2|       951|           1|                  |\n",
      "|20101|2011|   7|     1|     1810.0|            1|     2|     1945|              4|       2|       2|          |            |                10|\n",
      "|20101|2012|   8|     1|     2447.0|            1|     2|     1945|              4|       2|       2|          |            |                10|\n",
      "|20101|2013|   9|     1|     2023.0|            1|     2|     1945|              4|       2|       2|       951|           1|                  |\n",
      "|20101|2014|  10|     1|      600.0|            1|     2|     1945|              4|       2|       2|          |            |                10|\n",
      "|20101|2015|  11|     1|     1750.0|            1|     2|     1945|              4|       2|       1|          |            |                10|\n",
      "|20101|2016|  12|     1|     1304.0|            1|     2|     1945|              4|       2|       2|          |            |                10|\n",
      "+-----+----+----+------+-----------+-------------+------+---------+---------------+--------+--------+----------+------------+------------------+\n",
      "only showing top 20 rows\n",
      "\n"
     ]
    }
   ],
   "source": [
    "df.show()"
   ]
  },
  {
   "cell_type": "code",
   "execution_count": 42,
   "id": "09b50831",
   "metadata": {},
   "outputs": [
    {
     "name": "stdout",
     "output_type": "stream",
     "text": [
      "Number of columns:  14\n",
      "Total number of rows:  92857\n"
     ]
    }
   ],
   "source": [
    "print('Number of columns: ', len(df.columns))\n",
    "print('Total number of rows: ', df.count())"
   ]
  },
  {
   "cell_type": "code",
   "execution_count": 43,
   "id": "9fd77775",
   "metadata": {},
   "outputs": [
    {
     "data": {
      "text/plain": [
       "['id',\n",
       " 'year',\n",
       " 'wave',\n",
       " 'region',\n",
       " 'income',\n",
       " 'family_member',\n",
       " 'gender',\n",
       " 'year_born',\n",
       " 'education_level',\n",
       " 'marriage',\n",
       " 'religion',\n",
       " 'occupation',\n",
       " 'company_size',\n",
       " 'reason_none_worker']"
      ]
     },
     "execution_count": 43,
     "metadata": {},
     "output_type": "execute_result"
    }
   ],
   "source": [
    "df.columns"
   ]
  },
  {
   "cell_type": "code",
   "execution_count": 44,
   "id": "8c43049d",
   "metadata": {},
   "outputs": [
    {
     "name": "stdout",
     "output_type": "stream",
     "text": [
      "root\n",
      " |-- id: integer (nullable = true)\n",
      " |-- year: integer (nullable = true)\n",
      " |-- wave: integer (nullable = true)\n",
      " |-- region: integer (nullable = true)\n",
      " |-- income: double (nullable = true)\n",
      " |-- family_member: integer (nullable = true)\n",
      " |-- gender: integer (nullable = true)\n",
      " |-- year_born: integer (nullable = true)\n",
      " |-- education_level: integer (nullable = true)\n",
      " |-- marriage: integer (nullable = true)\n",
      " |-- religion: integer (nullable = true)\n",
      " |-- occupation: string (nullable = true)\n",
      " |-- company_size: string (nullable = true)\n",
      " |-- reason_none_worker: string (nullable = true)\n",
      "\n"
     ]
    }
   ],
   "source": [
    "df.printSchema()"
   ]
  },
  {
   "cell_type": "code",
   "execution_count": 45,
   "id": "7c01512f",
   "metadata": {},
   "outputs": [
    {
     "data": {
      "text/plain": [
       "<AxesSubplot:xlabel='education_level', ylabel='income'>"
      ]
     },
     "execution_count": 45,
     "metadata": {},
     "output_type": "execute_result"
    },
    {
     "data": {
      "image/png": "[encoded data removed]",
      "text/plain": [
       "<Figure size 432x288 with 1 Axes>"
      ]
     },
     "metadata": {
      "needs_background": "light"
     },
     "output_type": "display_data"
    }
   ],
   "source": [
    "import seaborn as sns\n",
    "pandasdf=df.toPandas()\n",
    "sns.scatterplot(data=pandasdf,x=\"education_level\",y='income')"
   ]
  },
  {
   "cell_type": "code",
   "execution_count": 46,
   "id": "b36a6e28",
   "metadata": {},
   "outputs": [
    {
     "data": {
      "text/plain": [
       "<AxesSubplot:xlabel='region', ylabel='income'>"
      ]
     },
     "execution_count": 46,
     "metadata": {},
     "output_type": "execute_result"
    },
    {
     "data": {
      "image/png": "[encoded data removed]",
      "text/plain": [
       "<Figure size 432x288 with 1 Axes>"
      ]
     },
     "metadata": {
      "needs_background": "light"
     },
     "output_type": "display_data"
    }
   ],
   "source": [
    "sns.scatterplot(data=pandasdf,x=\"region\",y='income')"
   ]
  },
  {
   "cell_type": "code",
   "execution_count": 47,
   "id": "9d4ad4af",
   "metadata": {},
   "outputs": [
    {
     "data": {
      "text/plain": [
       "<AxesSubplot:xlabel='gender', ylabel='income'>"
      ]
     },
     "execution_count": 47,
     "metadata": {},
     "output_type": "execute_result"
    },
    {
     "data": {
      "image/png": "[encoded data removed]",
      "text/plain": [
       "<Figure size 432x288 with 1 Axes>"
      ]
     },
     "metadata": {
      "needs_background": "light"
     },
     "output_type": "display_data"
    }
   ],
   "source": [
    "sns.scatterplot(data=pandasdf,x=\"gender\",y='income')"
   ]
  },
  {
   "cell_type": "code",
   "execution_count": 48,
   "id": "dfbadfad",
   "metadata": {},
   "outputs": [
    {
     "name": "stdout",
     "output_type": "stream",
     "text": [
      "+-----+----+----+------+-----------+-------------+------+---------+---------------+--------+--------+----------+------------+------------------+\n",
      "|   id|year|wave|region|     income|family_member|gender|year_born|education_level|marriage|religion|occupation|company_size|reason_none_worker|\n",
      "+-----+----+----+------+-----------+-------------+------+---------+---------------+--------+--------+----------+------------+------------------+\n",
      "|10101|2005|   1|     1|      614.0|            1|     2|     1936|              2|       2|       2|      null|        null|                 8|\n",
      "|10101|2011|   7|     1|      896.0|            1|     2|     1936|              2|       2|       2|      null|        null|                10|\n",
      "|10101|2012|   8|     1|     1310.0|            1|     2|     1936|              2|       2|       2|      null|        null|                10|\n",
      "|10101|2013|   9|     1|     2208.0|            1|     2|     1936|              2|       2|       2|      null|        null|                 1|\n",
      "|10101|2014|  10|     1|      864.0|            1|     2|     1936|              2|       2|       2|      null|        null|                10|\n",
      "|10101|2015|  11|     1|     1171.0|            1|     2|     1936|              2|       2|       1|      null|        null|                10|\n",
      "|10101|2016|  12|     1|     1643.0|            1|     2|     1936|              2|       2|       2|      null|        null|                10|\n",
      "|10101|2017|  13|     1|      851.0|            1|     2|     1936|              2|       2|       2|      null|        null|                10|\n",
      "|20101|2005|   1|     1|     1257.0|            1|     2|     1945|              4|       2|       2|       421|           1|              null|\n",
      "|20101|2006|   2|     1|-520.062475|            1|     2|     1945|              4|       2|       2|      null|        null|                 8|\n",
      "|20101|2007|   3|     1|      602.0|            1|     2|     1945|              4|       2|       2|       411|           1|              null|\n",
      "|20101|2008|   4|     1|     1972.0|            1|     2|     1945|              4|       2|       2|       951|           1|              null|\n",
      "|20101|2009|   5|     1|     1638.0|            1|     2|     1945|              4|       2|       1|       951|           1|              null|\n",
      "|20101|2010|   6|     1|     1598.0|            1|     2|     1945|              4|       2|       2|       951|           1|              null|\n",
      "|20101|2011|   7|     1|     1810.0|            1|     2|     1945|              4|       2|       2|      null|        null|                10|\n",
      "|20101|2012|   8|     1|     2447.0|            1|     2|     1945|              4|       2|       2|      null|        null|                10|\n",
      "|20101|2013|   9|     1|     2023.0|            1|     2|     1945|              4|       2|       2|       951|           1|              null|\n",
      "|20101|2014|  10|     1|      600.0|            1|     2|     1945|              4|       2|       2|      null|        null|                10|\n",
      "|20101|2015|  11|     1|     1750.0|            1|     2|     1945|              4|       2|       1|      null|        null|                10|\n",
      "|20101|2016|  12|     1|     1304.0|            1|     2|     1945|              4|       2|       2|      null|        null|                10|\n",
      "+-----+----+----+------+-----------+-------------+------+---------+---------------+--------+--------+----------+------------+------------------+\n",
      "only showing top 20 rows\n",
      "\n"
     ]
    }
   ],
   "source": [
    "from pyspark.sql.functions import col, isnan, when, count\n",
    "df2=df.select([when(col(c)==\" \",None).otherwise(col(c)).alias(c) for c in df.columns])\n",
    "df2.show()"
   ]
  },
  {
   "cell_type": "code",
   "execution_count": 49,
   "id": "e3b8483f",
   "metadata": {},
   "outputs": [
    {
     "name": "stdout",
     "output_type": "stream",
     "text": [
      "-RECORD 0-------------------\n",
      " id                 | 0     \n",
      " year               | 0     \n",
      " wave               | 0     \n",
      " region             | 0     \n",
      " income             | 0     \n",
      " family_member      | 0     \n",
      " gender             | 0     \n",
      " year_born          | 0     \n",
      " education_level    | 0     \n",
      " marriage           | 0     \n",
      " religion           | 0     \n",
      " occupation         | 33643 \n",
      " company_size       | 33642 \n",
      " reason_none_worker | 60710 \n",
      "\n"
     ]
    }
   ],
   "source": [
    "df2.select([count(when(isnan(c) | col(c).isNull(), c)).alias(c) for c in df.columns]).show(vertical=True)"
   ]
  },
  {
   "cell_type": "code",
   "execution_count": 50,
   "id": "3b0e2bb1",
   "metadata": {
    "scrolled": false
   },
   "outputs": [
    {
     "name": "stdout",
     "output_type": "stream",
     "text": [
      "+-----+----+------+-----------+------+---------+---------------+--------+----------+\n",
      "|   id|year|region|     income|gender|year_born|education_level|marriage|occupation|\n",
      "+-----+----+------+-----------+------+---------+---------------+--------+----------+\n",
      "|10101|2005|     1|      614.0|     2|     1936|              2|       2|      null|\n",
      "|10101|2011|     1|      896.0|     2|     1936|              2|       2|      null|\n",
      "|10101|2012|     1|     1310.0|     2|     1936|              2|       2|      null|\n",
      "|10101|2013|     1|     2208.0|     2|     1936|              2|       2|      null|\n",
      "|10101|2014|     1|      864.0|     2|     1936|              2|       2|      null|\n",
      "|10101|2015|     1|     1171.0|     2|     1936|              2|       2|      null|\n",
      "|10101|2016|     1|     1643.0|     2|     1936|              2|       2|      null|\n",
      "|10101|2017|     1|      851.0|     2|     1936|              2|       2|      null|\n",
      "|20101|2005|     1|     1257.0|     2|     1945|              4|       2|       421|\n",
      "|20101|2006|     1|-520.062475|     2|     1945|              4|       2|      null|\n",
      "|20101|2007|     1|      602.0|     2|     1945|              4|       2|       411|\n",
      "|20101|2008|     1|     1972.0|     2|     1945|              4|       2|       951|\n",
      "|20101|2009|     1|     1638.0|     2|     1945|              4|       2|       951|\n",
      "|20101|2010|     1|     1598.0|     2|     1945|              4|       2|       951|\n",
      "|20101|2011|     1|     1810.0|     2|     1945|              4|       2|      null|\n",
      "|20101|2012|     1|     2447.0|     2|     1945|              4|       2|      null|\n",
      "|20101|2013|     1|     2023.0|     2|     1945|              4|       2|       951|\n",
      "|20101|2014|     1|      600.0|     2|     1945|              4|       2|      null|\n",
      "|20101|2015|     1|     1750.0|     2|     1945|              4|       2|      null|\n",
      "|20101|2016|     1|     1304.0|     2|     1945|              4|       2|      null|\n",
      "+-----+----+------+-----------+------+---------+---------------+--------+----------+\n",
      "only showing top 20 rows\n",
      "\n",
      "Number of columns:  9\n",
      "Total number of rows:  92857\n"
     ]
    }
   ],
   "source": [
    "att = (\"wave\",\"family_member\",\"religion\",\"company_size\",\"reason_none_worker\")\n",
    "df_att = df2.drop(*att)\n",
    "df_att.show()\n",
    "\n",
    "print('Number of columns: ', len(df_att.columns))\n",
    "print('Total number of rows: ', df_att.count())"
   ]
  },
  {
   "cell_type": "code",
   "execution_count": 61,
   "id": "ebbd3a4d",
   "metadata": {
    "scrolled": true
   },
   "outputs": [
    {
     "data": {
      "text/plain": [
       "<AxesSubplot:xlabel='income'>"
      ]
     },
     "execution_count": 61,
     "metadata": {},
     "output_type": "execute_result"
    },
    {
     "data": {
      "image/png": "[encoded data removed]",
      "text/plain": [
       "<Figure size 432x288 with 1 Axes>"
      ]
     },
     "metadata": {
      "needs_background": "light"
     },
     "output_type": "display_data"
    }
   ],
   "source": [
    "pandasdf_att = df_att.toPandas()\n",
    "sns.boxplot(data = pandasdf_att, x = \"income\")"
   ]
  },
  {
   "cell_type": "code",
   "execution_count": 69,
   "id": "d8fe9b41",
   "metadata": {},
   "outputs": [
    {
     "name": "stdout",
     "output_type": "stream",
     "text": [
      "Number of columns:  9\n",
      "Total number of rows:  36334\n"
     ]
    }
   ],
   "source": [
    "df_row = df_att.where((df_att.year_born>1958) & (df_att.income>0))\n",
    "\n",
    "print('Number of columns: ', len(df_row.columns))\n",
    "print('Total number of rows: ', df_row.count())"
   ]
  },
  {
   "cell_type": "code",
   "execution_count": null,
   "id": "28795f89",
   "metadata": {},
   "outputs": [],
   "source": []
  }
 ],
 "metadata": {
  "kernelspec": {
   "display_name": "Python 3 (ipykernel)",
   "language": "python",
   "name": "python3"
  },
  "language_info": {
   "codemirror_mode": {
    "name": "ipython",
    "version": 3
   },
   "file_extension": ".py",
   "mimetype": "text/x-python",
   "name": "python",
   "nbconvert_exporter": "python",
   "pygments_lexer": "ipython3",
   "version": "3.10.4"
  }
 },
 "nbformat": 4,
 "nbformat_minor": 5
}
