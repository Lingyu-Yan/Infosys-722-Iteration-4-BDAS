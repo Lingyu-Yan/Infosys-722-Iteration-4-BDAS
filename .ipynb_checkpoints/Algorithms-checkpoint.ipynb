{
 "cells": [
  {
   "cell_type": "code",
   "execution_count": 30,
   "id": "b766d0ea",
   "metadata": {},
   "outputs": [],
   "source": [
    "import findspark\n",
    "findspark.init('/home/ubuntu/spark-3.2.1-bin-hadoop2.7')\n",
    "import pyspark\n",
    "from pyspark.sql import SparkSession\n",
    "spark = SparkSession.builder.appName('algorithms').getOrCreate()"
   ]
  },
  {
   "cell_type": "code",
   "execution_count": 13,
   "id": "cf461605",
   "metadata": {},
   "outputs": [
    {
     "name": "stdout",
     "output_type": "stream",
     "text": [
      "root\n",
      " |-- year: integer (nullable = true)\n",
      " |-- region: integer (nullable = true)\n",
      " |-- gender: integer (nullable = true)\n",
      " |-- year_born: integer (nullable = true)\n",
      " |-- education_tier: integer (nullable = true)\n",
      " |-- marriage_tier: integer (nullable = true)\n",
      " |-- income_tier: integer (nullable = true)\n",
      " |-- occupation_code: integer (nullable = true)\n",
      "\n",
      "Number of columns:  8\n",
      "Total number of rows:  52579\n"
     ]
    }
   ],
   "source": [
    "data = spark.read.load('Korea Income and Welfare Output.csv', format=\"csv\", header=True, inferSchema=True)\n",
    "\n",
    "data.printSchema()\n",
    "\n",
    "print('Number of columns: ', len(data.columns))\n",
    "print('Total number of rows: ', data.count())"
   ]
  },
  {
   "cell_type": "code",
   "execution_count": 3,
   "id": "07e30bb1",
   "metadata": {},
   "outputs": [
    {
     "data": {
      "text/plain": [
       "['year',\n",
       " 'region',\n",
       " 'gender',\n",
       " 'year_born',\n",
       " 'education_tier',\n",
       " 'marriage_tier',\n",
       " 'income_tier',\n",
       " 'occupation_code']"
      ]
     },
     "execution_count": 3,
     "metadata": {},
     "output_type": "execute_result"
    }
   ],
   "source": [
    "data.columns"
   ]
  },
  {
   "cell_type": "code",
   "execution_count": 14,
   "id": "3b273ee6",
   "metadata": {},
   "outputs": [],
   "source": [
    "from pyspark.ml.linalg import Vectors\n",
    "from pyspark.ml.feature import VectorAssembler"
   ]
  },
  {
   "cell_type": "code",
   "execution_count": 15,
   "id": "d7c89751",
   "metadata": {},
   "outputs": [],
   "source": [
    "assembler = VectorAssembler(\n",
    "  inputCols=['year',\n",
    "             'region',\n",
    "             'year_born',\n",
    "             'education_tier',\n",
    "             'marriage_tier',\n",
    "             'income_tier',\n",
    "             'occupation_code'],\n",
    "              outputCol=\"features\")"
   ]
  },
  {
   "cell_type": "code",
   "execution_count": 16,
   "id": "e71f2990",
   "metadata": {},
   "outputs": [
    {
     "name": "stdout",
     "output_type": "stream",
     "text": [
      "DataFrame[year: int, region: int, gender: int, year_born: int, education_tier: int, marriage_tier: int, income_tier: int, occupation_code: int, features: vector]\n"
     ]
    }
   ],
   "source": [
    "output = assembler.transform(data)\n",
    "\n",
    "print(output)"
   ]
  },
  {
   "cell_type": "code",
   "execution_count": 17,
   "id": "158b853a",
   "metadata": {},
   "outputs": [
    {
     "name": "stdout",
     "output_type": "stream",
     "text": [
      "+------------------------------------+------+\n",
      "|features                            |gender|\n",
      "+------------------------------------+------+\n",
      "|[2005.0,1.0,1962.0,2.0,1.0,2.0,51.0]|1     |\n",
      "|[2006.0,1.0,1962.0,2.0,1.0,2.0,51.0]|1     |\n",
      "|[2007.0,1.0,1962.0,2.0,1.0,2.0,51.0]|1     |\n",
      "|[2008.0,1.0,1962.0,2.0,1.0,2.0,53.0]|1     |\n",
      "|[2009.0,1.0,1962.0,2.0,1.0,2.0,53.0]|1     |\n",
      "|[2010.0,1.0,1962.0,2.0,1.0,2.0,53.0]|1     |\n",
      "|[2011.0,1.0,1962.0,2.0,1.0,2.0,53.0]|1     |\n",
      "|[2012.0,1.0,1962.0,2.0,1.0,2.0,53.0]|1     |\n",
      "|[2013.0,1.0,1962.0,2.0,1.0,2.0,53.0]|1     |\n",
      "|[2014.0,1.0,1962.0,2.0,1.0,2.0,53.0]|1     |\n",
      "+------------------------------------+------+\n",
      "only showing top 10 rows\n",
      "\n"
     ]
    }
   ],
   "source": [
    "final_data = output.select(\"features\",'gender')\n",
    "\n",
    "final_data.show(10, False)"
   ]
  },
  {
   "cell_type": "code",
   "execution_count": 18,
   "id": "3e1b7476",
   "metadata": {},
   "outputs": [
    {
     "name": "stdout",
     "output_type": "stream",
     "text": [
      "42150\n",
      "10429\n"
     ]
    }
   ],
   "source": [
    "(train_data,test_data) = final_data.randomSplit([0.8,0.2])\n",
    "\n",
    "print(train_data.count())\n",
    "print(test_data.count())"
   ]
  },
  {
   "cell_type": "code",
   "execution_count": 20,
   "id": "807506f0",
   "metadata": {},
   "outputs": [],
   "source": [
    "#from pyspark.ml import Pipeline\n",
    "from pyspark.ml.classification import (DecisionTreeClassifier, RandomForestClassifier)\n",
    "\n",
    "from pyspark.ml.evaluation import MulticlassClassificationEvaluator\n",
    "acc_evaluator = MulticlassClassificationEvaluator(labelCol=\"gender\", predictionCol=\"prediction\", metricName=\"accuracy\")"
   ]
  },
  {
   "cell_type": "code",
   "execution_count": 21,
   "id": "53de9918",
   "metadata": {},
   "outputs": [
    {
     "name": "stdout",
     "output_type": "stream",
     "text": [
      "0.903538210758462\n"
     ]
    }
   ],
   "source": [
    "dtc = DecisionTreeClassifier(labelCol='gender',featuresCol='features')\n",
    "dtc_model = dtc.fit(train_data)\n",
    "dtc_predictions = dtc_model.transform(test_data)\n",
    "\n",
    "dtc_acc = acc_evaluator.evaluate(dtc_predictions)\n",
    "print(dtc_acc)"
   ]
  },
  {
   "cell_type": "code",
   "execution_count": 28,
   "id": "c832d8de",
   "metadata": {},
   "outputs": [
    {
     "name": "stdout",
     "output_type": "stream",
     "text": [
      "+--------------------+------+--------------------+--------------------+----------+\n",
      "|            features|gender|       rawPrediction|         probability|prediction|\n",
      "+--------------------+------+--------------------+--------------------+----------+\n",
      "|[2005.0,1.0,1959....|     2|[0.0,1.3151212984...|[0.0,0.1315121298...|       2.0|\n",
      "|[2005.0,1.0,1959....|     2|[0.0,1.8993791422...|[0.0,0.1899379142...|       2.0|\n",
      "|[2005.0,1.0,1959....|     2|[0.0,1.3151212984...|[0.0,0.1315121298...|       2.0|\n",
      "|[2005.0,1.0,1959....|     2|[0.0,1.3151212984...|[0.0,0.1315121298...|       2.0|\n",
      "|[2005.0,1.0,1959....|     2|[0.0,1.3151212984...|[0.0,0.1315121298...|       2.0|\n",
      "|[2005.0,1.0,1959....|     2|[0.0,1.3151212984...|[0.0,0.1315121298...|       2.0|\n",
      "|[2005.0,1.0,1959....|     2|[0.0,1.3151212984...|[0.0,0.1315121298...|       2.0|\n",
      "|[2005.0,1.0,1959....|     2|[0.0,1.3151212984...|[0.0,0.1315121298...|       2.0|\n",
      "|[2005.0,1.0,1959....|     2|[0.0,1.0518714480...|[0.0,0.1051871448...|       2.0|\n",
      "|[2005.0,1.0,1959....|     1|[0.0,8.4636084100...|[0.0,0.8463608410...|       1.0|\n",
      "+--------------------+------+--------------------+--------------------+----------+\n",
      "only showing top 10 rows\n",
      "\n",
      "0.8887716943139323\n"
     ]
    }
   ],
   "source": [
    "rfc = RandomForestClassifier(labelCol='gender',featuresCol='features',numTrees=10)\n",
    "rfc_model = rfc.fit(train_data)\n",
    "rfc_predictions = rfc_model.transform(test_data)\n",
    "rfc_predictions.show(10)\n",
    "\n",
    "rfc_acc = acc_evaluator.evaluate(rfc_predictions)\n",
    "print(rfc_acc)"
   ]
  },
  {
   "cell_type": "code",
   "execution_count": 29,
   "id": "da2ae8d2",
   "metadata": {},
   "outputs": [
    {
     "name": "stdout",
     "output_type": "stream",
     "text": [
      "(7,[0,1,2,3,4,5,6],[0.004341824006876491,0.004200097064169931,0.021784287322713432,0.0016524617232221658,0.8583636081241375,0.062309620537806,0.04734810122107439])\n"
     ]
    }
   ],
   "source": [
    "print(rfc_model.featureImportances) "
   ]
  },
  {
   "cell_type": "code",
   "execution_count": 27,
   "id": "57908a15",
   "metadata": {},
   "outputs": [
    {
     "name": "stdout",
     "output_type": "stream",
     "text": [
      "Here are the results!\n",
      "----------------------------------------\n",
      "A single decision tree has an accuracy of: 90.35%\n",
      "----------------------------------------\n",
      "A random forest ensemble has an accuracy of: 88.88%\n"
     ]
    }
   ],
   "source": [
    "print(\"Here are the results!\")\n",
    "print('-'*40)\n",
    "print('A single decision tree has an accuracy of: {0:2.2f}%'.format(dtc_acc*100))\n",
    "print('-'*40)\n",
    "print('A random forest ensemble has an accuracy of: {0:2.2f}%'.format(rfc_acc*100))"
   ]
  }
 ],
 "metadata": {
  "kernelspec": {
   "display_name": "Python 3 (ipykernel)",
   "language": "python",
   "name": "python3"
  },
  "language_info": {
   "codemirror_mode": {
    "name": "ipython",
    "version": 3
   },
   "file_extension": ".py",
   "mimetype": "text/x-python",
   "name": "python",
   "nbconvert_exporter": "python",
   "pygments_lexer": "ipython3",
   "version": "3.10.4"
  }
 },
 "nbformat": 4,
 "nbformat_minor": 5
}
