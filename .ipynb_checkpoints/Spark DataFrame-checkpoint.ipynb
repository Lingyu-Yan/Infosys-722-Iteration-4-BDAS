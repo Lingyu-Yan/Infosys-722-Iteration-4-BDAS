{
 "cells": [
  {
   "cell_type": "code",
   "execution_count": 1,
   "id": "7c0801cb",
   "metadata": {},
   "outputs": [
    {
     "name": "stderr",
     "output_type": "stream",
     "text": [
      "WARNING: An illegal reflective access operation has occurred\n",
      "WARNING: Illegal reflective access by org.apache.spark.unsafe.Platform (file:/home/ubuntu/spark-3.2.1-bin-hadoop2.7/jars/spark-unsafe_2.12-3.2.1.jar) to constructor java.nio.DirectByteBuffer(long,int)\n",
      "WARNING: Please consider reporting this to the maintainers of org.apache.spark.unsafe.Platform\n",
      "WARNING: Use --illegal-access=warn to enable warnings of further illegal reflective access operations\n",
      "WARNING: All illegal access operations will be denied in a future release\n",
      "Using Spark's default log4j profile: org/apache/spark/log4j-defaults.properties\n",
      "Setting default log level to \"WARN\".\n",
      "To adjust logging level use sc.setLogLevel(newLevel). For SparkR, use setLogLevel(newLevel).\n",
      "22/10/09 09:36:18 WARN NativeCodeLoader: Unable to load native-hadoop library for your platform... using builtin-java classes where applicable\n",
      "22/10/09 09:36:19 WARN Utils: Service 'SparkUI' could not bind on port 4040. Attempting port 4041.\n",
      "                                                                                \r"
     ]
    }
   ],
   "source": [
    "import findspark\n",
    "findspark.init('/home/ubuntu/spark-3.2.1-bin-hadoop2.7')\n",
    "import pyspark\n",
    "from pyspark.sql import SparkSession\n",
    "spark = SparkSession.builder.appName('Data Understanding').getOrCreate()\n",
    "\n",
    "df = spark.read.load('Korea Income and Welfare.csv', format=\"csv\", header=True, inferSchema=True)"
   ]
  },
  {
   "cell_type": "code",
   "execution_count": 2,
   "id": "be0d97d0",
   "metadata": {
    "scrolled": false
   },
   "outputs": [
    {
     "name": "stdout",
     "output_type": "stream",
     "text": [
      "+-----+----+----+------+-----------+-------------+------+---------+---------------+--------+--------+----------+------------+------------------+\n",
      "|   id|year|wave|region|     income|family_member|gender|year_born|education_level|marriage|religion|occupation|company_size|reason_none_worker|\n",
      "+-----+----+----+------+-----------+-------------+------+---------+---------------+--------+--------+----------+------------+------------------+\n",
      "|10101|2005|   1|     1|      614.0|            1|     2|     1936|              2|       2|       2|          |            |                 8|\n",
      "|10101|2011|   7|     1|      896.0|            1|     2|     1936|              2|       2|       2|          |            |                10|\n",
      "|10101|2012|   8|     1|     1310.0|            1|     2|     1936|              2|       2|       2|          |            |                10|\n",
      "|10101|2013|   9|     1|     2208.0|            1|     2|     1936|              2|       2|       2|          |            |                 1|\n",
      "|10101|2014|  10|     1|      864.0|            1|     2|     1936|              2|       2|       2|          |            |                10|\n",
      "|10101|2015|  11|     1|     1171.0|            1|     2|     1936|              2|       2|       1|          |            |                10|\n",
      "|10101|2016|  12|     1|     1643.0|            1|     2|     1936|              2|       2|       2|          |            |                10|\n",
      "|10101|2017|  13|     1|      851.0|            1|     2|     1936|              2|       2|       2|          |            |                10|\n",
      "|20101|2005|   1|     1|     1257.0|            1|     2|     1945|              4|       2|       2|       421|           1|                  |\n",
      "|20101|2006|   2|     1|-520.062475|            1|     2|     1945|              4|       2|       2|          |            |                 8|\n",
      "|20101|2007|   3|     1|      602.0|            1|     2|     1945|              4|       2|       2|       411|           1|                  |\n",
      "|20101|2008|   4|     1|     1972.0|            1|     2|     1945|              4|       2|       2|       951|           1|                  |\n",
      "|20101|2009|   5|     1|     1638.0|            1|     2|     1945|              4|       2|       1|       951|           1|                  |\n",
      "|20101|2010|   6|     1|     1598.0|            1|     2|     1945|              4|       2|       2|       951|           1|                  |\n",
      "|20101|2011|   7|     1|     1810.0|            1|     2|     1945|              4|       2|       2|          |            |                10|\n",
      "|20101|2012|   8|     1|     2447.0|            1|     2|     1945|              4|       2|       2|          |            |                10|\n",
      "|20101|2013|   9|     1|     2023.0|            1|     2|     1945|              4|       2|       2|       951|           1|                  |\n",
      "|20101|2014|  10|     1|      600.0|            1|     2|     1945|              4|       2|       2|          |            |                10|\n",
      "|20101|2015|  11|     1|     1750.0|            1|     2|     1945|              4|       2|       1|          |            |                10|\n",
      "|20101|2016|  12|     1|     1304.0|            1|     2|     1945|              4|       2|       2|          |            |                10|\n",
      "+-----+----+----+------+-----------+-------------+------+---------+---------------+--------+--------+----------+------------+------------------+\n",
      "only showing top 20 rows\n",
      "\n"
     ]
    }
   ],
   "source": [
    "df.show()"
   ]
  },
  {
   "cell_type": "code",
   "execution_count": 3,
   "id": "09b50831",
   "metadata": {},
   "outputs": [
    {
     "name": "stdout",
     "output_type": "stream",
     "text": [
      "Number of columns:  14\n",
      "Total number of rows:  92857\n"
     ]
    }
   ],
   "source": [
    "print('Number of columns: ', len(df.columns))\n",
    "print('Total number of rows: ', df.count())"
   ]
  },
  {
   "cell_type": "code",
   "execution_count": 4,
   "id": "9fd77775",
   "metadata": {
    "scrolled": false
   },
   "outputs": [
    {
     "data": {
      "text/plain": [
       "['id',\n",
       " 'year',\n",
       " 'wave',\n",
       " 'region',\n",
       " 'income',\n",
       " 'family_member',\n",
       " 'gender',\n",
       " 'year_born',\n",
       " 'education_level',\n",
       " 'marriage',\n",
       " 'religion',\n",
       " 'occupation',\n",
       " 'company_size',\n",
       " 'reason_none_worker']"
      ]
     },
     "execution_count": 4,
     "metadata": {},
     "output_type": "execute_result"
    }
   ],
   "source": [
    "df.columns"
   ]
  },
  {
   "cell_type": "code",
   "execution_count": 5,
   "id": "8c43049d",
   "metadata": {
    "scrolled": true
   },
   "outputs": [
    {
     "name": "stdout",
     "output_type": "stream",
     "text": [
      "root\n",
      " |-- id: integer (nullable = true)\n",
      " |-- year: integer (nullable = true)\n",
      " |-- wave: integer (nullable = true)\n",
      " |-- region: integer (nullable = true)\n",
      " |-- income: double (nullable = true)\n",
      " |-- family_member: integer (nullable = true)\n",
      " |-- gender: integer (nullable = true)\n",
      " |-- year_born: integer (nullable = true)\n",
      " |-- education_level: integer (nullable = true)\n",
      " |-- marriage: integer (nullable = true)\n",
      " |-- religion: integer (nullable = true)\n",
      " |-- occupation: string (nullable = true)\n",
      " |-- company_size: string (nullable = true)\n",
      " |-- reason_none_worker: string (nullable = true)\n",
      "\n"
     ]
    }
   ],
   "source": [
    "df.printSchema()"
   ]
  },
  {
   "cell_type": "code",
   "execution_count": 6,
   "id": "7c01512f",
   "metadata": {},
   "outputs": [
    {
     "name": "stderr",
     "output_type": "stream",
     "text": [
      "                                                                                \r"
     ]
    },
    {
     "data": {
      "text/plain": [
       "<AxesSubplot:xlabel='education_level', ylabel='income'>"
      ]
     },
     "execution_count": 6,
     "metadata": {},
     "output_type": "execute_result"
    },
    {
     "data": {
      "image/png": "[encoded data removed]",
      "text/plain": [
       "<Figure size 432x288 with 1 Axes>"
      ]
     },
     "metadata": {
      "needs_background": "light"
     },
     "output_type": "display_data"
    }
   ],
   "source": [
    "import seaborn as sns\n",
    "pandasdf=df.toPandas()\n",
    "sns.scatterplot(data=pandasdf,x=\"education_level\",y='income')"
   ]
  },
  {
   "cell_type": "code",
   "execution_count": 7,
   "id": "b36a6e28",
   "metadata": {},
   "outputs": [
    {
     "data": {
      "text/plain": [
       "<AxesSubplot:xlabel='region', ylabel='income'>"
      ]
     },
     "execution_count": 7,
     "metadata": {},
     "output_type": "execute_result"
    },
    {
     "data": {
      "image/png": "[encoded data removed]",
      "text/plain": [
       "<Figure size 432x288 with 1 Axes>"
      ]
     },
     "metadata": {
      "needs_background": "light"
     },
     "output_type": "display_data"
    }
   ],
   "source": [
    "sns.scatterplot(data=pandasdf,x=\"region\",y='income')"
   ]
  },
  {
   "cell_type": "code",
   "execution_count": 8,
   "id": "9d4ad4af",
   "metadata": {},
   "outputs": [
    {
     "data": {
      "text/plain": [
       "<AxesSubplot:xlabel='gender', ylabel='income'>"
      ]
     },
     "execution_count": 8,
     "metadata": {},
     "output_type": "execute_result"
    },
    {
     "data": {
      "image/png": "[encoded data removed]",
      "text/plain": [
       "<Figure size 432x288 with 1 Axes>"
      ]
     },
     "metadata": {
      "needs_background": "light"
     },
     "output_type": "display_data"
    }
   ],
   "source": [
    "sns.scatterplot(data=pandasdf,x=\"gender\",y='income')"
   ]
  },
  {
   "cell_type": "code",
   "execution_count": 9,
   "id": "dfbadfad",
   "metadata": {
    "scrolled": false
   },
   "outputs": [
    {
     "name": "stdout",
     "output_type": "stream",
     "text": [
      "+-----+----+----+------+-----------+-------------+------+---------+---------------+--------+--------+----------+------------+------------------+\n",
      "|   id|year|wave|region|     income|family_member|gender|year_born|education_level|marriage|religion|occupation|company_size|reason_none_worker|\n",
      "+-----+----+----+------+-----------+-------------+------+---------+---------------+--------+--------+----------+------------+------------------+\n",
      "|10101|2005|   1|     1|      614.0|            1|     2|     1936|              2|       2|       2|      null|        null|                 8|\n",
      "|10101|2011|   7|     1|      896.0|            1|     2|     1936|              2|       2|       2|      null|        null|                10|\n",
      "|10101|2012|   8|     1|     1310.0|            1|     2|     1936|              2|       2|       2|      null|        null|                10|\n",
      "|10101|2013|   9|     1|     2208.0|            1|     2|     1936|              2|       2|       2|      null|        null|                 1|\n",
      "|10101|2014|  10|     1|      864.0|            1|     2|     1936|              2|       2|       2|      null|        null|                10|\n",
      "|10101|2015|  11|     1|     1171.0|            1|     2|     1936|              2|       2|       1|      null|        null|                10|\n",
      "|10101|2016|  12|     1|     1643.0|            1|     2|     1936|              2|       2|       2|      null|        null|                10|\n",
      "|10101|2017|  13|     1|      851.0|            1|     2|     1936|              2|       2|       2|      null|        null|                10|\n",
      "|20101|2005|   1|     1|     1257.0|            1|     2|     1945|              4|       2|       2|       421|           1|              null|\n",
      "|20101|2006|   2|     1|-520.062475|            1|     2|     1945|              4|       2|       2|      null|        null|                 8|\n",
      "|20101|2007|   3|     1|      602.0|            1|     2|     1945|              4|       2|       2|       411|           1|              null|\n",
      "|20101|2008|   4|     1|     1972.0|            1|     2|     1945|              4|       2|       2|       951|           1|              null|\n",
      "|20101|2009|   5|     1|     1638.0|            1|     2|     1945|              4|       2|       1|       951|           1|              null|\n",
      "|20101|2010|   6|     1|     1598.0|            1|     2|     1945|              4|       2|       2|       951|           1|              null|\n",
      "|20101|2011|   7|     1|     1810.0|            1|     2|     1945|              4|       2|       2|      null|        null|                10|\n",
      "|20101|2012|   8|     1|     2447.0|            1|     2|     1945|              4|       2|       2|      null|        null|                10|\n",
      "|20101|2013|   9|     1|     2023.0|            1|     2|     1945|              4|       2|       2|       951|           1|              null|\n",
      "|20101|2014|  10|     1|      600.0|            1|     2|     1945|              4|       2|       2|      null|        null|                10|\n",
      "|20101|2015|  11|     1|     1750.0|            1|     2|     1945|              4|       2|       1|      null|        null|                10|\n",
      "|20101|2016|  12|     1|     1304.0|            1|     2|     1945|              4|       2|       2|      null|        null|                10|\n",
      "+-----+----+----+------+-----------+-------------+------+---------+---------------+--------+--------+----------+------------+------------------+\n",
      "only showing top 20 rows\n",
      "\n"
     ]
    }
   ],
   "source": [
    "from pyspark.sql.functions import col, isnan, when, count\n",
    "df2=df.select([when(col(c)==\" \",None).otherwise(col(c)).alias(c) for c in df.columns])\n",
    "df2.show()"
   ]
  },
  {
   "cell_type": "code",
   "execution_count": 10,
   "id": "e3b8483f",
   "metadata": {},
   "outputs": [
    {
     "name": "stderr",
     "output_type": "stream",
     "text": [
      "\r",
      "[Stage 8:=============================>                             (1 + 1) / 2]\r"
     ]
    },
    {
     "name": "stdout",
     "output_type": "stream",
     "text": [
      "-RECORD 0-------------------\n",
      " id                 | 0     \n",
      " year               | 0     \n",
      " wave               | 0     \n",
      " region             | 0     \n",
      " income             | 0     \n",
      " family_member      | 0     \n",
      " gender             | 0     \n",
      " year_born          | 0     \n",
      " education_level    | 0     \n",
      " marriage           | 0     \n",
      " religion           | 0     \n",
      " occupation         | 33643 \n",
      " company_size       | 33642 \n",
      " reason_none_worker | 60710 \n",
      "\n"
     ]
    },
    {
     "name": "stderr",
     "output_type": "stream",
     "text": [
      "\r",
      "                                                                                \r"
     ]
    }
   ],
   "source": [
    "df2.select([count(when(isnan(c) | col(c).isNull(), c)).alias(c) for c in df2.columns]).show(vertical=True)"
   ]
  },
  {
   "cell_type": "code",
   "execution_count": 11,
   "id": "3b0e2bb1",
   "metadata": {
    "scrolled": false
   },
   "outputs": [
    {
     "name": "stdout",
     "output_type": "stream",
     "text": [
      "+-----+----+------+-----------+------+---------+---------------+--------+----------+\n",
      "|   id|year|region|     income|gender|year_born|education_level|marriage|occupation|\n",
      "+-----+----+------+-----------+------+---------+---------------+--------+----------+\n",
      "|10101|2005|     1|      614.0|     2|     1936|              2|       2|      null|\n",
      "|10101|2011|     1|      896.0|     2|     1936|              2|       2|      null|\n",
      "|10101|2012|     1|     1310.0|     2|     1936|              2|       2|      null|\n",
      "|10101|2013|     1|     2208.0|     2|     1936|              2|       2|      null|\n",
      "|10101|2014|     1|      864.0|     2|     1936|              2|       2|      null|\n",
      "|10101|2015|     1|     1171.0|     2|     1936|              2|       2|      null|\n",
      "|10101|2016|     1|     1643.0|     2|     1936|              2|       2|      null|\n",
      "|10101|2017|     1|      851.0|     2|     1936|              2|       2|      null|\n",
      "|20101|2005|     1|     1257.0|     2|     1945|              4|       2|       421|\n",
      "|20101|2006|     1|-520.062475|     2|     1945|              4|       2|      null|\n",
      "|20101|2007|     1|      602.0|     2|     1945|              4|       2|       411|\n",
      "|20101|2008|     1|     1972.0|     2|     1945|              4|       2|       951|\n",
      "|20101|2009|     1|     1638.0|     2|     1945|              4|       2|       951|\n",
      "|20101|2010|     1|     1598.0|     2|     1945|              4|       2|       951|\n",
      "|20101|2011|     1|     1810.0|     2|     1945|              4|       2|      null|\n",
      "|20101|2012|     1|     2447.0|     2|     1945|              4|       2|      null|\n",
      "|20101|2013|     1|     2023.0|     2|     1945|              4|       2|       951|\n",
      "|20101|2014|     1|      600.0|     2|     1945|              4|       2|      null|\n",
      "|20101|2015|     1|     1750.0|     2|     1945|              4|       2|      null|\n",
      "|20101|2016|     1|     1304.0|     2|     1945|              4|       2|      null|\n",
      "+-----+----+------+-----------+------+---------+---------------+--------+----------+\n",
      "only showing top 20 rows\n",
      "\n",
      "Number of columns:  9\n",
      "Total number of rows:  92857\n"
     ]
    }
   ],
   "source": [
    "att = (\"wave\",\"family_member\",\"religion\",\"company_size\",\"reason_none_worker\")\n",
    "df_att = df2.drop(*att)\n",
    "df_att.show()\n",
    "\n",
    "print('Number of columns: ', len(df_att.columns))\n",
    "print('Total number of rows: ', df_att.count())"
   ]
  },
  {
   "cell_type": "code",
   "execution_count": 12,
   "id": "ebbd3a4d",
   "metadata": {
    "scrolled": true
   },
   "outputs": [
    {
     "data": {
      "text/plain": [
       "<AxesSubplot:xlabel='income'>"
      ]
     },
     "execution_count": 12,
     "metadata": {},
     "output_type": "execute_result"
    },
    {
     "data": {
      "image/png": "[encoded data removed]",
      "text/plain": [
       "<Figure size 432x288 with 1 Axes>"
      ]
     },
     "metadata": {
      "needs_background": "light"
     },
     "output_type": "display_data"
    }
   ],
   "source": [
    "pandasdf_att = df_att.toPandas()\n",
    "sns.boxplot(data = pandasdf_att, x = \"income\")"
   ]
  },
  {
   "cell_type": "code",
   "execution_count": 13,
   "id": "d8fe9b41",
   "metadata": {},
   "outputs": [
    {
     "name": "stdout",
     "output_type": "stream",
     "text": [
      "Number of columns:  9\n",
      "Total number of rows:  36334\n"
     ]
    }
   ],
   "source": [
    "df_row = df_att.where((df_att.year_born>1958) & (df_att.income>0))\n",
    "\n",
    "print('Number of columns: ', len(df_row.columns))\n",
    "print('Total number of rows: ', df_row.count())"
   ]
  },
  {
   "cell_type": "code",
   "execution_count": 14,
   "id": "28795f89",
   "metadata": {},
   "outputs": [
    {
     "data": {
      "text/plain": [
       "<AxesSubplot:xlabel='income'>"
      ]
     },
     "execution_count": 14,
     "metadata": {},
     "output_type": "execute_result"
    },
    {
     "data": {
      "image/png": "[encoded data removed]",
      "text/plain": [
       "<Figure size 432x288 with 1 Axes>"
      ]
     },
     "metadata": {
      "needs_background": "light"
     },
     "output_type": "display_data"
    }
   ],
   "source": [
    "pandasdf_row = df_row.toPandas()\n",
    "sns.boxplot(data = pandasdf_row, x = \"income\")"
   ]
  },
  {
   "cell_type": "code",
   "execution_count": 15,
   "id": "43a029e2",
   "metadata": {},
   "outputs": [
    {
     "name": "stdout",
     "output_type": "stream",
     "text": [
      "-RECORD 0---------------\n",
      " id              | 0    \n",
      " year            | 0    \n",
      " region          | 0    \n",
      " income          | 0    \n",
      " gender          | 0    \n",
      " year_born       | 0    \n",
      " education_level | 0    \n",
      " marriage        | 0    \n",
      " occupation      | 3514 \n",
      "\n"
     ]
    }
   ],
   "source": [
    "df_row.select([count(when(isnan(c) | col(c).isNull(), c)).alias(c) for c in df_row.columns]).show(vertical=True)"
   ]
  },
  {
   "cell_type": "code",
   "execution_count": 16,
   "id": "482cdfbc",
   "metadata": {},
   "outputs": [
    {
     "name": "stdout",
     "output_type": "stream",
     "text": [
      "Number of columns:  9\n",
      "Total number of rows:  32820\n"
     ]
    }
   ],
   "source": [
    "df_row = df_row.na.drop(subset=[\"occupation\"])\n",
    "\n",
    "print('Number of columns: ', len(df_row.columns))\n",
    "print('Total number of rows: ', df_row.count())"
   ]
  },
  {
   "cell_type": "code",
   "execution_count": 17,
   "id": "811695c7",
   "metadata": {
    "scrolled": false
   },
   "outputs": [
    {
     "name": "stderr",
     "output_type": "stream",
     "text": [
      "                                                                                \r"
     ]
    },
    {
     "name": "stdout",
     "output_type": "stream",
     "text": [
      "{'income': [-2549.0, 12331.0]}\n",
      "Number of extremes and outliers:  1339\n",
      "+-------+----+------+-------+------+---------+---------------+--------+----------+--------------+\n",
      "|     id|year|region| income|gender|year_born|education_level|marriage|occupation|income_outlier|\n",
      "+-------+----+------+-------+------+---------+---------------+--------+----------+--------------+\n",
      "| 590101|2010|     1|13066.0|     1|     1968|              5|       1|       312|          true|\n",
      "| 590101|2011|     1|14036.0|     1|     1968|              5|       1|       312|          true|\n",
      "| 590101|2015|     1|12465.0|     1|     1968|              5|       1|       312|          true|\n",
      "| 590101|2017|     1|12573.0|     1|     1968|              5|       1|       312|          true|\n",
      "| 590101|2018|     1|13253.0|     1|     1968|              5|       1|       312|          true|\n",
      "| 760101|2013|     1|15541.0|     1|     1973|              6|       1|       399|          true|\n",
      "| 970301|2009|     2|13239.0|     1|     1974|              8|       1|       234|          true|\n",
      "| 970301|2010|     2|16069.0|     1|     1974|              8|       1|       234|          true|\n",
      "| 990101|2008|     1|13682.0|     1|     1959|              5|       1|       875|          true|\n",
      "| 990101|2014|     1|12500.0|     1|     1959|              5|       1|       875|          true|\n",
      "| 990101|2016|     1|13633.0|     1|     1959|              5|       1|       875|          true|\n",
      "| 990101|2017|     1|12841.0|     1|     1959|              5|       1|       875|          true|\n",
      "|1060101|2006|     1|24000.0|     2|     1977|              5|       5|        30|          true|\n",
      "|1060101|2009|     1|22982.0|     2|     1977|              5|       5|       442|          true|\n",
      "|1060101|2010|     1|24172.0|     2|     1977|              5|       5|       442|          true|\n",
      "|1060101|2011|     1|25082.0|     2|     1977|              5|       5|       442|          true|\n",
      "|1110101|2014|     1|13258.0|     1|     1975|              7|       1|       223|          true|\n",
      "|1110101|2015|     1|13454.0|     1|     1975|              7|       1|       223|          true|\n",
      "|1110101|2016|     1|14285.0|     1|     1975|              7|       1|       223|          true|\n",
      "|1110101|2017|     1|15582.0|     1|     1975|              7|       1|       223|          true|\n",
      "+-------+----+------+-------+------+---------+---------------+--------+----------+--------------+\n",
      "only showing top 20 rows\n",
      "\n"
     ]
    }
   ],
   "source": [
    "boundary = {}\n",
    "quantiles = df_row.approxQuantile(\"income\",[0.25,0.75],0)\n",
    "IQR = quantiles[1] - quantiles[0]\n",
    "boundary[\"income\"] = [quantiles[0] - 1.5*IQR, quantiles[1] + 1.5*IQR]\n",
    "\n",
    "print(boundary)\n",
    "\n",
    "df_outliers = df_row.select(*df_row.columns+[(\n",
    "    (df_row[\"income\"] < boundary[\"income\"][0]) |\n",
    "    (df_row[\"income\"]>boundary[\"income\"][1])).alias(\"income_outlier\")])\n",
    "\n",
    "outliers = df_outliers.filter(\"income_outlier\")\n",
    "print(\"Number of extremes and outliers: \", outliers.count())\n",
    "outliers.show()"
   ]
  },
  {
   "cell_type": "code",
   "execution_count": 18,
   "id": "1824bc28",
   "metadata": {},
   "outputs": [
    {
     "name": "stdout",
     "output_type": "stream",
     "text": [
      "Number of columns:  9\n",
      "Total number of rows:  31481\n",
      "+------+----+------+------+------+---------+---------------+--------+----------+\n",
      "|    id|year|region|income|gender|year_born|education_level|marriage|occupation|\n",
      "+------+----+------+------+------+---------+---------------+--------+----------+\n",
      "| 60101|2005|     1|2429.0|     1|     1962|              6|       1|       511|\n",
      "| 60101|2006|     1|3109.0|     1|     1962|              6|       1|       511|\n",
      "| 60101|2007|     1|3031.0|     1|     1962|              6|       1|       512|\n",
      "| 60101|2008|     1|1540.0|     1|     1962|              6|       1|       530|\n",
      "| 60101|2009|     1|3564.0|     1|     1962|              6|       1|       530|\n",
      "| 60101|2010|     1|2964.0|     1|     1962|              6|       1|       530|\n",
      "| 60101|2011|     1|3604.0|     1|     1962|              6|       1|       530|\n",
      "| 60101|2012|     1|3116.0|     1|     1962|              6|       1|       530|\n",
      "| 60101|2013|     1|4079.0|     1|     1962|              6|       1|       530|\n",
      "| 60101|2014|     1|3486.0|     1|     1962|              6|       1|       530|\n",
      "| 60101|2015|     1|4821.0|     1|     1962|              6|       1|       530|\n",
      "| 60101|2016|     1|5921.0|     1|     1962|              6|       1|       530|\n",
      "| 60101|2017|     1|4668.0|     1|     1962|              6|       1|       530|\n",
      "| 60101|2018|     1|5008.0|     1|     1962|              6|       1|       855|\n",
      "|140101|2013|     1| 855.0|     1|     1962|              6|       5|       999|\n",
      "|140101|2014|     1| 542.0|     1|     1962|              6|       5|       999|\n",
      "|150101|2007|     1|3222.0|     1|     1978|              7|       1|       311|\n",
      "|150101|2008|     1|3068.0|     1|     1978|              7|       1|       312|\n",
      "|150101|2009|     1|3686.0|     1|     1978|              7|       1|       312|\n",
      "|150101|2010|     1|4885.0|     1|     1978|              7|       1|       312|\n",
      "+------+----+------+------+------+---------+---------------+--------+----------+\n",
      "only showing top 20 rows\n",
      "\n"
     ]
    }
   ],
   "source": [
    "df_removeoutliers = df_outliers.filter(df_outliers.income_outlier==False) \n",
    "new_df = df_removeoutliers.drop(\"income_outlier\")\n",
    "\n",
    "print('Number of columns: ', len(new_df.columns))\n",
    "print('Total number of rows: ', new_df.count())\n",
    "\n",
    "new_df.show()"
   ]
  },
  {
   "cell_type": "code",
   "execution_count": 19,
   "id": "1a5a4cf8",
   "metadata": {},
   "outputs": [
    {
     "data": {
      "text/plain": [
       "<AxesSubplot:xlabel='education_level', ylabel='Count'>"
      ]
     },
     "execution_count": 19,
     "metadata": {},
     "output_type": "execute_result"
    },
    {
     "data": {
      "image/png": "[encoded data removed]",
      "text/plain": [
       "<Figure size 432x288 with 1 Axes>"
      ]
     },
     "metadata": {
      "needs_background": "light"
     },
     "output_type": "display_data"
    }
   ],
   "source": [
    "pandasnew_df = new_df.toPandas()\n",
    "sns.histplot(data = pandasnew_df, x = \"education_level\")"
   ]
  },
  {
   "cell_type": "code",
   "execution_count": 20,
   "id": "bfdf3d38",
   "metadata": {},
   "outputs": [
    {
     "name": "stdout",
     "output_type": "stream",
     "text": [
      "root\n",
      " |-- id: integer (nullable = true)\n",
      " |-- year: integer (nullable = true)\n",
      " |-- region: integer (nullable = true)\n",
      " |-- income: double (nullable = true)\n",
      " |-- gender: integer (nullable = true)\n",
      " |-- year_born: integer (nullable = true)\n",
      " |-- education_level: integer (nullable = true)\n",
      " |-- marriage: integer (nullable = true)\n",
      " |-- occupation: string (nullable = true)\n",
      " |-- education_tier: string (nullable = false)\n",
      "\n",
      "+------+----+------+------+------+---------+---------------+--------+----------+--------------+\n",
      "|    id|year|region|income|gender|year_born|education_level|marriage|occupation|education_tier|\n",
      "+------+----+------+------+------+---------+---------------+--------+----------+--------------+\n",
      "| 60101|2005|     1|2429.0|     1|     1962|              6|       1|       511|             2|\n",
      "| 60101|2006|     1|3109.0|     1|     1962|              6|       1|       511|             2|\n",
      "| 60101|2007|     1|3031.0|     1|     1962|              6|       1|       512|             2|\n",
      "| 60101|2008|     1|1540.0|     1|     1962|              6|       1|       530|             2|\n",
      "| 60101|2009|     1|3564.0|     1|     1962|              6|       1|       530|             2|\n",
      "| 60101|2010|     1|2964.0|     1|     1962|              6|       1|       530|             2|\n",
      "| 60101|2011|     1|3604.0|     1|     1962|              6|       1|       530|             2|\n",
      "| 60101|2012|     1|3116.0|     1|     1962|              6|       1|       530|             2|\n",
      "| 60101|2013|     1|4079.0|     1|     1962|              6|       1|       530|             2|\n",
      "| 60101|2014|     1|3486.0|     1|     1962|              6|       1|       530|             2|\n",
      "| 60101|2015|     1|4821.0|     1|     1962|              6|       1|       530|             2|\n",
      "| 60101|2016|     1|5921.0|     1|     1962|              6|       1|       530|             2|\n",
      "| 60101|2017|     1|4668.0|     1|     1962|              6|       1|       530|             2|\n",
      "| 60101|2018|     1|5008.0|     1|     1962|              6|       1|       855|             2|\n",
      "|140101|2013|     1| 855.0|     1|     1962|              6|       5|       999|             2|\n",
      "|140101|2014|     1| 542.0|     1|     1962|              6|       5|       999|             2|\n",
      "|150101|2007|     1|3222.0|     1|     1978|              7|       1|       311|             3|\n",
      "|150101|2008|     1|3068.0|     1|     1978|              7|       1|       312|             3|\n",
      "|150101|2009|     1|3686.0|     1|     1978|              7|       1|       312|             3|\n",
      "|150101|2010|     1|4885.0|     1|     1978|              7|       1|       312|             3|\n",
      "+------+----+------+------+------+---------+---------------+--------+----------+--------------+\n",
      "only showing top 20 rows\n",
      "\n"
     ]
    }
   ],
   "source": [
    "from pyspark.sql.functions import lit\n",
    "\n",
    "df_tier = new_df.withColumn(\"education_tier\", \\\n",
    "   when((new_df.education_level < 4), lit(\"1\")) \\\n",
    "     .when((new_df.education_level >= 4) & (new_df.education_level <= 6), lit(\"2\")) \\\n",
    "     .otherwise(lit(\"3\")))\n",
    "\n",
    "df_tier.printSchema()\n",
    "df_tier.show()"
   ]
  },
  {
   "cell_type": "code",
   "execution_count": 21,
   "id": "88bf8181",
   "metadata": {},
   "outputs": [
    {
     "name": "stdout",
     "output_type": "stream",
     "text": [
      "root\n",
      " |-- id: integer (nullable = true)\n",
      " |-- year: integer (nullable = true)\n",
      " |-- region: integer (nullable = true)\n",
      " |-- income: double (nullable = true)\n",
      " |-- gender: integer (nullable = true)\n",
      " |-- year_born: integer (nullable = true)\n",
      " |-- education_level: integer (nullable = true)\n",
      " |-- marriage: integer (nullable = true)\n",
      " |-- occupation: string (nullable = true)\n",
      " |-- education_tier: integer (nullable = true)\n",
      "\n"
     ]
    }
   ],
   "source": [
    "from pyspark.sql.types import IntegerType\n",
    "df_tier = df_tier.withColumn(\"education_tier\", df_tier[\"education_tier\"].cast(IntegerType()))\n",
    "df_tier.printSchema()"
   ]
  },
  {
   "cell_type": "code",
   "execution_count": 22,
   "id": "dfbf45c2",
   "metadata": {},
   "outputs": [
    {
     "data": {
      "text/plain": [
       "<AxesSubplot:xlabel='education_tier', ylabel='Count'>"
      ]
     },
     "execution_count": 22,
     "metadata": {},
     "output_type": "execute_result"
    },
    {
     "data": {
      "image/png": "[encoded data removed]",
      "text/plain": [
       "<Figure size 432x288 with 1 Axes>"
      ]
     },
     "metadata": {
      "needs_background": "light"
     },
     "output_type": "display_data"
    }
   ],
   "source": [
    "pandasdf_tier = df_tier.toPandas()\n",
    "sns.histplot(data = pandasdf_tier, x = \"education_tier\")"
   ]
  },
  {
   "cell_type": "code",
   "execution_count": 23,
   "id": "3bc3a28e",
   "metadata": {},
   "outputs": [
    {
     "data": {
      "text/plain": [
       "<AxesSubplot:xlabel='marriage', ylabel='Count'>"
      ]
     },
     "execution_count": 23,
     "metadata": {},
     "output_type": "execute_result"
    },
    {
     "data": {
      "image/png": "[encoded data removed]",
      "text/plain": [
       "<Figure size 432x288 with 1 Axes>"
      ]
     },
     "metadata": {
      "needs_background": "light"
     },
     "output_type": "display_data"
    }
   ],
   "source": [
    "pandasdf_tier = df_tier.toPandas()\n",
    "sns.histplot(data = pandasdf_tier, x = \"marriage\")"
   ]
  },
  {
   "cell_type": "code",
   "execution_count": 24,
   "id": "ae9cdb14",
   "metadata": {},
   "outputs": [
    {
     "name": "stdout",
     "output_type": "stream",
     "text": [
      "root\n",
      " |-- id: integer (nullable = true)\n",
      " |-- year: integer (nullable = true)\n",
      " |-- region: integer (nullable = true)\n",
      " |-- income: double (nullable = true)\n",
      " |-- gender: integer (nullable = true)\n",
      " |-- year_born: integer (nullable = true)\n",
      " |-- education_level: integer (nullable = true)\n",
      " |-- marriage: integer (nullable = true)\n",
      " |-- occupation: string (nullable = true)\n",
      " |-- education_tier: integer (nullable = true)\n",
      " |-- marriage_tier: integer (nullable = true)\n",
      "\n",
      "+------+----+------+------+------+---------+---------------+--------+----------+--------------+-------------+\n",
      "|    id|year|region|income|gender|year_born|education_level|marriage|occupation|education_tier|marriage_tier|\n",
      "+------+----+------+------+------+---------+---------------+--------+----------+--------------+-------------+\n",
      "| 60101|2005|     1|2429.0|     1|     1962|              6|       1|       511|             2|            1|\n",
      "| 60101|2006|     1|3109.0|     1|     1962|              6|       1|       511|             2|            1|\n",
      "| 60101|2007|     1|3031.0|     1|     1962|              6|       1|       512|             2|            1|\n",
      "| 60101|2008|     1|1540.0|     1|     1962|              6|       1|       530|             2|            1|\n",
      "| 60101|2009|     1|3564.0|     1|     1962|              6|       1|       530|             2|            1|\n",
      "| 60101|2010|     1|2964.0|     1|     1962|              6|       1|       530|             2|            1|\n",
      "| 60101|2011|     1|3604.0|     1|     1962|              6|       1|       530|             2|            1|\n",
      "| 60101|2012|     1|3116.0|     1|     1962|              6|       1|       530|             2|            1|\n",
      "| 60101|2013|     1|4079.0|     1|     1962|              6|       1|       530|             2|            1|\n",
      "| 60101|2014|     1|3486.0|     1|     1962|              6|       1|       530|             2|            1|\n",
      "| 60101|2015|     1|4821.0|     1|     1962|              6|       1|       530|             2|            1|\n",
      "| 60101|2016|     1|5921.0|     1|     1962|              6|       1|       530|             2|            1|\n",
      "| 60101|2017|     1|4668.0|     1|     1962|              6|       1|       530|             2|            1|\n",
      "| 60101|2018|     1|5008.0|     1|     1962|              6|       1|       855|             2|            1|\n",
      "|140101|2013|     1| 855.0|     1|     1962|              6|       5|       999|             2|            0|\n",
      "|140101|2014|     1| 542.0|     1|     1962|              6|       5|       999|             2|            0|\n",
      "|150101|2007|     1|3222.0|     1|     1978|              7|       1|       311|             3|            1|\n",
      "|150101|2008|     1|3068.0|     1|     1978|              7|       1|       312|             3|            1|\n",
      "|150101|2009|     1|3686.0|     1|     1978|              7|       1|       312|             3|            1|\n",
      "|150101|2010|     1|4885.0|     1|     1978|              7|       1|       312|             3|            1|\n",
      "+------+----+------+------+------+---------+---------------+--------+----------+--------------+-------------+\n",
      "only showing top 20 rows\n",
      "\n"
     ]
    }
   ],
   "source": [
    "new_df_tier = df_tier.withColumn(\"marriage_tier\", \\\n",
    "   when((df_tier.marriage == 1), lit(\"1\")) \\\n",
    "     .otherwise(lit(\"0\")))\n",
    "\n",
    "new_df_tier = new_df_tier.withColumn(\"marriage_tier\", new_df_tier[\"marriage_tier\"].cast(IntegerType()))\n",
    "new_df_tier.printSchema()\n",
    "new_df_tier.show()"
   ]
  },
  {
   "cell_type": "code",
   "execution_count": 25,
   "id": "0724793f",
   "metadata": {},
   "outputs": [
    {
     "name": "stdout",
     "output_type": "stream",
     "text": [
      "+------------------+\n",
      "|       avg(Income)|\n",
      "+------------------+\n",
      "|4901.6867518607405|\n",
      "+------------------+\n",
      "\n"
     ]
    }
   ],
   "source": [
    "new_df_tier.agg({\"Income\":\"mean\"}).show()"
   ]
  },
  {
   "cell_type": "code",
   "execution_count": 26,
   "id": "11866a7a",
   "metadata": {
    "scrolled": true
   },
   "outputs": [
    {
     "name": "stdout",
     "output_type": "stream",
     "text": [
      "+------+----+------+------+------+---------+---------------+--------+----------+--------------+-------------+----------------+\n",
      "|    id|year|region|income|gender|year_born|education_level|marriage|occupation|education_tier|marriage_tier|income_corrected|\n",
      "+------+----+------+------+------+---------+---------------+--------+----------+--------------+-------------+----------------+\n",
      "| 60101|2005|     1|2429.0|     1|     1962|              6|       1|       511|             2|            1|           24.29|\n",
      "| 60101|2006|     1|3109.0|     1|     1962|              6|       1|       511|             2|            1|           31.09|\n",
      "| 60101|2007|     1|3031.0|     1|     1962|              6|       1|       512|             2|            1|           30.31|\n",
      "| 60101|2008|     1|1540.0|     1|     1962|              6|       1|       530|             2|            1|            15.4|\n",
      "| 60101|2009|     1|3564.0|     1|     1962|              6|       1|       530|             2|            1|           35.64|\n",
      "| 60101|2010|     1|2964.0|     1|     1962|              6|       1|       530|             2|            1|           29.64|\n",
      "| 60101|2011|     1|3604.0|     1|     1962|              6|       1|       530|             2|            1|           36.04|\n",
      "| 60101|2012|     1|3116.0|     1|     1962|              6|       1|       530|             2|            1|           31.16|\n",
      "| 60101|2013|     1|4079.0|     1|     1962|              6|       1|       530|             2|            1|           40.79|\n",
      "| 60101|2014|     1|3486.0|     1|     1962|              6|       1|       530|             2|            1|           34.86|\n",
      "| 60101|2015|     1|4821.0|     1|     1962|              6|       1|       530|             2|            1|           48.21|\n",
      "| 60101|2016|     1|5921.0|     1|     1962|              6|       1|       530|             2|            1|           59.21|\n",
      "| 60101|2017|     1|4668.0|     1|     1962|              6|       1|       530|             2|            1|           46.68|\n",
      "| 60101|2018|     1|5008.0|     1|     1962|              6|       1|       855|             2|            1|           50.08|\n",
      "|140101|2013|     1| 855.0|     1|     1962|              6|       5|       999|             2|            0|            8.55|\n",
      "|140101|2014|     1| 542.0|     1|     1962|              6|       5|       999|             2|            0|            5.42|\n",
      "|150101|2007|     1|3222.0|     1|     1978|              7|       1|       311|             3|            1|           32.22|\n",
      "|150101|2008|     1|3068.0|     1|     1978|              7|       1|       312|             3|            1|           30.68|\n",
      "|150101|2009|     1|3686.0|     1|     1978|              7|       1|       312|             3|            1|           36.86|\n",
      "|150101|2010|     1|4885.0|     1|     1978|              7|       1|       312|             3|            1|           48.85|\n",
      "+------+----+------+------+------+---------+---------------+--------+----------+--------------+-------------+----------------+\n",
      "only showing top 20 rows\n",
      "\n",
      "root\n",
      " |-- id: integer (nullable = true)\n",
      " |-- year: integer (nullable = true)\n",
      " |-- region: integer (nullable = true)\n",
      " |-- income: double (nullable = true)\n",
      " |-- gender: integer (nullable = true)\n",
      " |-- year_born: integer (nullable = true)\n",
      " |-- education_level: integer (nullable = true)\n",
      " |-- marriage: integer (nullable = true)\n",
      " |-- occupation: string (nullable = true)\n",
      " |-- education_tier: integer (nullable = true)\n",
      " |-- marriage_tier: integer (nullable = true)\n",
      " |-- income_corrected: double (nullable = true)\n",
      "\n"
     ]
    }
   ],
   "source": [
    "new_income_df = new_df_tier.withColumn('income_corrected', new_df_tier.income/100)\n",
    "new_income_df.show()\n",
    "new_income_df.printSchema()"
   ]
  },
  {
   "cell_type": "code",
   "execution_count": 27,
   "id": "b2c45436",
   "metadata": {
    "scrolled": false
   },
   "outputs": [
    {
     "name": "stdout",
     "output_type": "stream",
     "text": [
      "root\n",
      " |-- id: integer (nullable = true)\n",
      " |-- year: integer (nullable = true)\n",
      " |-- region: integer (nullable = true)\n",
      " |-- income: double (nullable = true)\n",
      " |-- gender: integer (nullable = true)\n",
      " |-- year_born: integer (nullable = true)\n",
      " |-- education_level: integer (nullable = true)\n",
      " |-- marriage: integer (nullable = true)\n",
      " |-- occupation: string (nullable = true)\n",
      " |-- education_tier: integer (nullable = true)\n",
      " |-- marriage_tier: integer (nullable = true)\n",
      " |-- income_corrected: double (nullable = true)\n",
      " |-- income_tier: integer (nullable = true)\n",
      "\n",
      "+-----------+-----+\n",
      "|income_tier|count|\n",
      "+-----------+-----+\n",
      "|          1|  719|\n",
      "|          2|15666|\n",
      "|          3|12285|\n",
      "|          4| 2811|\n",
      "+-----------+-----+\n",
      "\n"
     ]
    }
   ],
   "source": [
    "new_income_tier = new_income_df.withColumn(\"income_tier\", \\\n",
    "   when((new_income_df.income_corrected < 12), lit(\"1\")) \\\n",
    "     .when((new_income_df.income_corrected >= 12) & (new_income_df.income_corrected < 46), lit(\"2\")) \\\n",
    "     .when((new_income_df.income_corrected >= 46) & (new_income_df.income_corrected < 88), lit(\"3\")) \\\n",
    "     .when((new_income_df.income_corrected >= 88) & (new_income_df.income_corrected < 150), lit(\"4\")) \\\n",
    "     .otherwise(lit(\"5\")))\n",
    "\n",
    "new_income_tier = new_income_tier.withColumn(\"income_tier\", new_income_tier[\"income_tier\"].cast(IntegerType()))\n",
    "new_income_tier.printSchema()\n",
    "\n",
    "new_income_tier.groupBy('income_tier').count().orderBy('income_tier', ascending=True).show()"
   ]
  },
  {
   "cell_type": "code",
   "execution_count": 28,
   "id": "e14043a5",
   "metadata": {},
   "outputs": [
    {
     "data": {
      "text/plain": [
       "<seaborn.axisgrid.FacetGrid at 0x7fd3fca90c70>"
      ]
     },
     "execution_count": 28,
     "metadata": {},
     "output_type": "execute_result"
    },
    {
     "data": {
      "image/png": "[encoded data removed]",
      "text/plain": [
       "<Figure size 360x360 with 1 Axes>"
      ]
     },
     "metadata": {
      "needs_background": "light"
     },
     "output_type": "display_data"
    }
   ],
   "source": [
    "pandasdnew_income_tier = new_income_tier.toPandas()\n",
    "sns.displot(data = pandasdnew_income_tier, x = \"income_tier\")"
   ]
  },
  {
   "cell_type": "code",
   "execution_count": 29,
   "id": "472b6a7b",
   "metadata": {},
   "outputs": [
    {
     "name": "stdout",
     "output_type": "stream",
     "text": [
      "Number of columns:  13\n",
      "Total number of rows:  31481\n"
     ]
    }
   ],
   "source": [
    "print('Number of columns: ', len(new_income_tier.columns))\n",
    "print('Total number of rows: ', new_income_tier.count())"
   ]
  },
  {
   "cell_type": "code",
   "execution_count": 30,
   "id": "2b4694d0",
   "metadata": {},
   "outputs": [
    {
     "name": "stdout",
     "output_type": "stream",
     "text": [
      "+-----------------------+----+--------------------+--------+--------------------+\n",
      "|                    _c0| _c1|                 _c2|     _c3|                 _c4|\n",
      "+-----------------------+----+--------------------+--------+--------------------+\n",
      "|                 대분류|null|                null|job_code|           job_title|\n",
      "|               1 관리자|  11|Senior public and...|     111|Assembly members,...|\n",
      "|                   null|null|                null|     112|senior corporate ...|\n",
      "|                   null|  12|Administrative an...|     120|Administrative an...|\n",
      "|                   null|  13|Professional serv...|     131|Research, educati...|\n",
      "|                   null|null|                null|     132|Insurance and Fin...|\n",
      "|                   null|null|                null|     133|Health and social...|\n",
      "|                   null|null|                null|     134|Managers related ...|\n",
      "|                   null|null|                null|     135|Information and c...|\n",
      "|                   null|null|                null|     139|Other professiona...|\n",
      "|                   null|  14|Construction, ele...|     141|Construction, ele...|\n",
      "|                   null|null|                null|     149|Other constructio...|\n",
      "|                   null|  15|Sales and custome...|     151|Sales and transpo...|\n",
      "|                   null|null|                null|     152|Customer Service ...|\n",
      "|                   null|null|                null|     153|Managers related ...|\n",
      "|                   null|null|                null|     159|Other sales and c...|\n",
      "|2 전문가 및 관련 종사자|  21|Scientific expert...|     211|Life and natural ...|\n",
      "|                   null|null|                null|     212|Humanities and so...|\n",
      "|                   null|null|                null|     213|Laboratory for bi...|\n",
      "|                   null|  22|Information and c...|     221|Computer Hardware...|\n",
      "+-----------------------+----+--------------------+--------+--------------------+\n",
      "only showing top 20 rows\n",
      "\n"
     ]
    }
   ],
   "source": [
    "df_job = spark.read.csv(\"job_code_translated.csv\", header=False, inferSchema=True)\n",
    "\n",
    "#df_job = spark.read.load('job_code_translated.csv', format=\"csv\", inferSchema=True)\n",
    "df_job.show()"
   ]
  },
  {
   "cell_type": "code",
   "execution_count": 31,
   "id": "316676b2",
   "metadata": {
    "scrolled": true
   },
   "outputs": [
    {
     "name": "stdout",
     "output_type": "stream",
     "text": [
      "+---------------+---------------------------------------------------------------------+\n",
      "|occupation_code|job_title                                                            |\n",
      "+---------------+---------------------------------------------------------------------+\n",
      "|11             |Senior public and corporate positions                                |\n",
      "|12             |Administrative and management support managerial positions           |\n",
      "|13             |Professional service manager                                         |\n",
      "|14             |Construction, electricity and production-related managerial positions|\n",
      "|15             |Sales and customer service management positions                      |\n",
      "|21             |Scientific experts and related positions                             |\n",
      "|22             |Information and communication specialists and technical positions    |\n",
      "|23             |Engineering professionals and technical positions                    |\n",
      "|24             |Health, social welfare and religious jobs                            |\n",
      "|25             |Education professionals and related positions                        |\n",
      "|26             |Legal and administrative professions                                 |\n",
      "|27             |Management and financial experts and related positions               |\n",
      "|28             |Culture, arts and sports experts and related positions               |\n",
      "|31             |Office jobs related to management and accounting                     |\n",
      "|32             |Finance and Insurance Office Workers                                 |\n",
      "|33             |Legal and Audit Office Workers                                       |\n",
      "|39             |Consultation, guidance, statistics and other office jobs             |\n",
      "|41             |Police, fire and security related service positions                  |\n",
      "|42             |Cosmetology, wedding and medical assistant services                  |\n",
      "|43             |Transportation and leisure service jobs                              |\n",
      "+---------------+---------------------------------------------------------------------+\n",
      "only showing top 20 rows\n",
      "\n",
      "Number of columns:  2\n",
      "Total number of rows:  52\n"
     ]
    }
   ],
   "source": [
    "job_att = (\"_c0\",\"_c3\",\"_c4\")\n",
    "new_job = df_job.drop(*job_att)\n",
    "new_job = new_job.na.drop()\n",
    "\n",
    "new_job = new_job.withColumnRenamed(\"_c1\",\"occupation_code\") \\\n",
    "            .withColumnRenamed(\"_c2\",\"job_title\")\n",
    "\n",
    "new_job.show(20, False)\n",
    "\n",
    "print('Number of columns: ', len(new_job.columns))\n",
    "print('Total number of rows: ', new_job.count())"
   ]
  },
  {
   "cell_type": "code",
   "execution_count": 32,
   "id": "003b6bb2",
   "metadata": {
    "scrolled": false
   },
   "outputs": [
    {
     "name": "stdout",
     "output_type": "stream",
     "text": [
      "+------+----+------+------+------+---------+---------------+--------+----------+--------------+-------------+----------------+-----------+---------------+\n",
      "|    id|year|region|income|gender|year_born|education_level|marriage|occupation|education_tier|marriage_tier|income_corrected|income_tier|occupation_code|\n",
      "+------+----+------+------+------+---------+---------------+--------+----------+--------------+-------------+----------------+-----------+---------------+\n",
      "| 60101|2005|     1|2429.0|     1|     1962|              6|       1|       511|             2|            1|           24.29|          2|             51|\n",
      "| 60101|2006|     1|3109.0|     1|     1962|              6|       1|       511|             2|            1|           31.09|          2|             51|\n",
      "| 60101|2007|     1|3031.0|     1|     1962|              6|       1|       512|             2|            1|           30.31|          2|             51|\n",
      "| 60101|2008|     1|1540.0|     1|     1962|              6|       1|       530|             2|            1|            15.4|          2|             53|\n",
      "| 60101|2009|     1|3564.0|     1|     1962|              6|       1|       530|             2|            1|           35.64|          2|             53|\n",
      "| 60101|2010|     1|2964.0|     1|     1962|              6|       1|       530|             2|            1|           29.64|          2|             53|\n",
      "| 60101|2011|     1|3604.0|     1|     1962|              6|       1|       530|             2|            1|           36.04|          2|             53|\n",
      "| 60101|2012|     1|3116.0|     1|     1962|              6|       1|       530|             2|            1|           31.16|          2|             53|\n",
      "| 60101|2013|     1|4079.0|     1|     1962|              6|       1|       530|             2|            1|           40.79|          2|             53|\n",
      "| 60101|2014|     1|3486.0|     1|     1962|              6|       1|       530|             2|            1|           34.86|          2|             53|\n",
      "| 60101|2015|     1|4821.0|     1|     1962|              6|       1|       530|             2|            1|           48.21|          3|             53|\n",
      "| 60101|2016|     1|5921.0|     1|     1962|              6|       1|       530|             2|            1|           59.21|          3|             53|\n",
      "| 60101|2017|     1|4668.0|     1|     1962|              6|       1|       530|             2|            1|           46.68|          3|             53|\n",
      "| 60101|2018|     1|5008.0|     1|     1962|              6|       1|       855|             2|            1|           50.08|          3|             85|\n",
      "|140101|2013|     1| 855.0|     1|     1962|              6|       5|       999|             2|            0|            8.55|          1|             99|\n",
      "|140101|2014|     1| 542.0|     1|     1962|              6|       5|       999|             2|            0|            5.42|          1|             99|\n",
      "|150101|2007|     1|3222.0|     1|     1978|              7|       1|       311|             3|            1|           32.22|          2|             31|\n",
      "|150101|2008|     1|3068.0|     1|     1978|              7|       1|       312|             3|            1|           30.68|          2|             31|\n",
      "|150101|2009|     1|3686.0|     1|     1978|              7|       1|       312|             3|            1|           36.86|          2|             31|\n",
      "|150101|2010|     1|4885.0|     1|     1978|              7|       1|       312|             3|            1|           48.85|          3|             31|\n",
      "+------+----+------+------+------+---------+---------------+--------+----------+--------------+-------------+----------------+-----------+---------------+\n",
      "only showing top 20 rows\n",
      "\n"
     ]
    }
   ],
   "source": [
    "from pyspark.sql import functions as F\n",
    "new_income_tier = new_income_tier.withColumn(\"occupation_code\", (F.col('occupation')/10).cast('int'))\n",
    "new_income_tier.show()"
   ]
  },
  {
   "cell_type": "code",
   "execution_count": 33,
   "id": "228113fd",
   "metadata": {},
   "outputs": [
    {
     "name": "stdout",
     "output_type": "stream",
     "text": [
      "+-----+----+------+------+------+---------+---------------+--------+----------+--------------+-------------+----------------+-----------+---------------+--------------------------------------------+\n",
      "|id   |year|region|income|gender|year_born|education_level|marriage|occupation|education_tier|marriage_tier|income_corrected|income_tier|occupation_code|job_title                                   |\n",
      "+-----+----+------+------+------+---------+---------------+--------+----------+--------------+-------------+----------------+-----------+---------------+--------------------------------------------+\n",
      "|60101|2005|1     |2429.0|1     |1962     |6              |1       |511       |2             |1            |24.29           |2          |51             |Sales job                                   |\n",
      "|60101|2006|1     |3109.0|1     |1962     |6              |1       |511       |2             |1            |31.09           |2          |51             |Sales job                                   |\n",
      "|60101|2007|1     |3031.0|1     |1962     |6              |1       |512       |2             |1            |30.31           |2          |51             |Sales job                                   |\n",
      "|60101|2008|1     |1540.0|1     |1962     |6              |1       |530       |2             |1            |15.4            |2          |53             |Visiting, stalls and mail-order related jobs|\n",
      "|60101|2009|1     |3564.0|1     |1962     |6              |1       |530       |2             |1            |35.64           |2          |53             |Visiting, stalls and mail-order related jobs|\n",
      "|60101|2010|1     |2964.0|1     |1962     |6              |1       |530       |2             |1            |29.64           |2          |53             |Visiting, stalls and mail-order related jobs|\n",
      "|60101|2011|1     |3604.0|1     |1962     |6              |1       |530       |2             |1            |36.04           |2          |53             |Visiting, stalls and mail-order related jobs|\n",
      "|60101|2012|1     |3116.0|1     |1962     |6              |1       |530       |2             |1            |31.16           |2          |53             |Visiting, stalls and mail-order related jobs|\n",
      "|60101|2013|1     |4079.0|1     |1962     |6              |1       |530       |2             |1            |40.79           |2          |53             |Visiting, stalls and mail-order related jobs|\n",
      "|60101|2014|1     |3486.0|1     |1962     |6              |1       |530       |2             |1            |34.86           |2          |53             |Visiting, stalls and mail-order related jobs|\n",
      "+-----+----+------+------+------+---------+---------------+--------+----------+--------------+-------------+----------------+-----------+---------------+--------------------------------------------+\n",
      "only showing top 10 rows\n",
      "\n"
     ]
    }
   ],
   "source": [
    "new_dataframe = new_income_tier.join(new_job, \n",
    "                    new_income_tier.occupation_code == new_job.occupation_code).drop(new_job.occupation_code)\n",
    "new_dataframe.show(10, False)"
   ]
  },
  {
   "cell_type": "code",
   "execution_count": 34,
   "id": "3dd07596",
   "metadata": {},
   "outputs": [
    {
     "name": "stdout",
     "output_type": "stream",
     "text": [
      "root\n",
      " |-- id: integer (nullable = true)\n",
      " |-- year: integer (nullable = true)\n",
      " |-- region: integer (nullable = true)\n",
      " |-- income: double (nullable = true)\n",
      " |-- gender: integer (nullable = true)\n",
      " |-- year_born: integer (nullable = true)\n",
      " |-- education_level: integer (nullable = true)\n",
      " |-- marriage: integer (nullable = true)\n",
      " |-- occupation: string (nullable = true)\n",
      " |-- education_tier: integer (nullable = true)\n",
      " |-- marriage_tier: integer (nullable = true)\n",
      " |-- income_corrected: double (nullable = true)\n",
      " |-- income_tier: integer (nullable = true)\n",
      " |-- occupation_code: integer (nullable = true)\n",
      " |-- job_title: string (nullable = true)\n",
      "\n",
      "root\n",
      " |-- id: integer (nullable = true)\n",
      " |-- year: integer (nullable = true)\n",
      " |-- region: integer (nullable = true)\n",
      " |-- income: double (nullable = true)\n",
      " |-- gender: integer (nullable = true)\n",
      " |-- year_born: integer (nullable = true)\n",
      " |-- education_level: integer (nullable = true)\n",
      " |-- marriage: integer (nullable = true)\n",
      " |-- occupation: string (nullable = true)\n",
      " |-- education_tier: integer (nullable = true)\n",
      " |-- marriage_tier: integer (nullable = true)\n",
      " |-- income_corrected: double (nullable = true)\n",
      " |-- income_tier: integer (nullable = true)\n",
      " |-- occupation_code: integer (nullable = true)\n",
      " |-- job_title: string (nullable = true)\n",
      "\n"
     ]
    }
   ],
   "source": [
    "new_dataframe.printSchema()\n",
    "\n",
    "new_dataframe.withColumn(\"occupation\",new_dataframe.occupation.cast(IntegerType()))\n",
    "new_dataframe.printSchema()"
   ]
  },
  {
   "cell_type": "code",
   "execution_count": 35,
   "id": "77d0b6d2",
   "metadata": {},
   "outputs": [
    {
     "name": "stdout",
     "output_type": "stream",
     "text": [
      "+----+------+------+---------+--------------+-------------+-----------+---------------+\n",
      "|year|region|gender|year_born|education_tier|marriage_tier|income_tier|occupation_code|\n",
      "+----+------+------+---------+--------------+-------------+-----------+---------------+\n",
      "|2005|     1|     1|     1962|             2|            1|          2|             51|\n",
      "|2006|     1|     1|     1962|             2|            1|          2|             51|\n",
      "|2007|     1|     1|     1962|             2|            1|          2|             51|\n",
      "|2008|     1|     1|     1962|             2|            1|          2|             53|\n",
      "|2009|     1|     1|     1962|             2|            1|          2|             53|\n",
      "|2010|     1|     1|     1962|             2|            1|          2|             53|\n",
      "|2011|     1|     1|     1962|             2|            1|          2|             53|\n",
      "|2012|     1|     1|     1962|             2|            1|          2|             53|\n",
      "|2013|     1|     1|     1962|             2|            1|          2|             53|\n",
      "|2014|     1|     1|     1962|             2|            1|          2|             53|\n",
      "|2015|     1|     1|     1962|             2|            1|          3|             53|\n",
      "|2016|     1|     1|     1962|             2|            1|          3|             53|\n",
      "|2017|     1|     1|     1962|             2|            1|          3|             53|\n",
      "|2018|     1|     1|     1962|             2|            1|          3|             85|\n",
      "|2013|     1|     1|     1962|             2|            0|          1|             99|\n",
      "|2014|     1|     1|     1962|             2|            0|          1|             99|\n",
      "|2007|     1|     1|     1978|             3|            1|          2|             31|\n",
      "|2008|     1|     1|     1978|             3|            1|          2|             31|\n",
      "|2009|     1|     1|     1978|             3|            1|          2|             31|\n",
      "|2010|     1|     1|     1978|             3|            1|          3|             31|\n",
      "+----+------+------+---------+--------------+-------------+-----------+---------------+\n",
      "only showing top 20 rows\n",
      "\n",
      "Number of columns:  8\n",
      "Total number of rows:  30949\n"
     ]
    }
   ],
   "source": [
    "att_remove = (\"id\",\"income\",\"education_level\",\"marriage\",\"occupation\",\"income_corrected\",\"job_title\")\n",
    "new_dataframe_att = new_dataframe.drop(*att_remove)\n",
    "new_dataframe_att.show()\n",
    "\n",
    "print('Number of columns: ', len(new_dataframe_att.columns))\n",
    "print('Total number of rows: ', new_dataframe_att.count())"
   ]
  },
  {
   "cell_type": "code",
   "execution_count": 36,
   "id": "468af5ef",
   "metadata": {},
   "outputs": [
    {
     "name": "stdout",
     "output_type": "stream",
     "text": [
      "+-----------+-----+\n",
      "|income_tier|count|\n",
      "+-----------+-----+\n",
      "|          1|  714|\n",
      "|          2|15421|\n",
      "|          3|12034|\n",
      "|          4| 2780|\n",
      "+-----------+-----+\n",
      "\n"
     ]
    }
   ],
   "source": [
    "new_dataframe_att.groupBy('income_tier').count().orderBy('income_tier', ascending=True).show()"
   ]
  },
  {
   "cell_type": "code",
   "execution_count": 37,
   "id": "b641ea70",
   "metadata": {
    "scrolled": false
   },
   "outputs": [
    {
     "name": "stdout",
     "output_type": "stream",
     "text": [
      "21\n",
      "+-----------+-----+\n",
      "|income_tier|count|\n",
      "+-----------+-----+\n",
      "|          1|14994|\n",
      "|          2|15421|\n",
      "+-----------+-----+\n",
      "\n",
      "4\n",
      "+-----------+-----+\n",
      "|income_tier|count|\n",
      "+-----------+-----+\n",
      "|          3|12034|\n",
      "|          4|11120|\n",
      "+-----------+-----+\n",
      "\n"
     ]
    }
   ],
   "source": [
    "from pyspark.sql.functions import explode, array\n",
    "\n",
    "minor_df1 = new_dataframe_att.filter(col(\"income_tier\") == 1)\n",
    "major_df1 = new_dataframe_att.filter(col(\"income_tier\") == 2)\n",
    "ratio1 = int(major_df1.count()/minor_df1.count())\n",
    "print(ratio1)\n",
    "\n",
    "a = range(ratio1)\n",
    "oversampled_df1 = minor_df1.withColumn(\"dummy\", explode(array([lit(x) for x in a]))).drop('dummy')\n",
    "combined_att1 = major_df1.unionAll(oversampled_df1)\n",
    "#combined_att1.show()\n",
    "\n",
    "combined_att1.groupBy('income_tier').count().orderBy('income_tier', ascending=True).show()\n",
    "\n",
    "minor_df2 = new_dataframe_att.filter(col(\"income_tier\") == 4)\n",
    "major_df2 = new_dataframe_att.filter(col(\"income_tier\") == 3)\n",
    "ratio2 = int(major_df2.count()/minor_df2.count())\n",
    "print(ratio2)\n",
    "\n",
    "b = range(ratio2)\n",
    "oversampled_df2 = minor_df2.withColumn(\"dummy\", explode(array([lit(x) for x in b]))).drop('dummy')\n",
    "combined_att2 = major_df2.unionAll(oversampled_df2)\n",
    "#combined_att2.show()\n",
    "\n",
    "combined_att2.groupBy('income_tier').count().orderBy('income_tier', ascending=True).show()"
   ]
  },
  {
   "cell_type": "code",
   "execution_count": 38,
   "id": "3bb6cb76",
   "metadata": {},
   "outputs": [
    {
     "name": "stdout",
     "output_type": "stream",
     "text": [
      "Number of columns:  8\n"
     ]
    },
    {
     "name": "stderr",
     "output_type": "stream",
     "text": [
      "                                                                                \r"
     ]
    },
    {
     "name": "stdout",
     "output_type": "stream",
     "text": [
      "Total number of rows:  53569\n"
     ]
    },
    {
     "name": "stderr",
     "output_type": "stream",
     "text": [
      "\r",
      "[Stage 100:============================>                            (4 + 2) / 8]\r",
      "\r",
      "[Stage 100:===================================>                     (5 + 2) / 8]\r"
     ]
    },
    {
     "name": "stdout",
     "output_type": "stream",
     "text": [
      "+-----------+-----+\n",
      "|income_tier|count|\n",
      "+-----------+-----+\n",
      "|          1|14994|\n",
      "|          2|15421|\n",
      "|          3|12034|\n",
      "|          4|11120|\n",
      "+-----------+-----+\n",
      "\n"
     ]
    },
    {
     "name": "stderr",
     "output_type": "stream",
     "text": [
      "                                                                                \r"
     ]
    }
   ],
   "source": [
    "final_df = combined_att1.unionAll(combined_att2)\n",
    "\n",
    "print('Number of columns: ', len(final_df.columns))\n",
    "print('Total number of rows: ', final_df.count())\n",
    "\n",
    "final_df.groupBy('income_tier').count().orderBy('income_tier', ascending=True).show()\n",
    "\n",
    "final_df.write.csv(\"Korea Income and Welfare Output.csv\", header=True)"
   ]
  }
 ],
 "metadata": {
  "kernelspec": {
   "display_name": "Python 3 (ipykernel)",
   "language": "python",
   "name": "python3"
  },
  "language_info": {
   "codemirror_mode": {
    "name": "ipython",
    "version": 3
   },
   "file_extension": ".py",
   "mimetype": "text/x-python",
   "name": "python",
   "nbconvert_exporter": "python",
   "pygments_lexer": "ipython3",
   "version": "3.10.4"
  }
 },
 "nbformat": 4,
 "nbformat_minor": 5
}
