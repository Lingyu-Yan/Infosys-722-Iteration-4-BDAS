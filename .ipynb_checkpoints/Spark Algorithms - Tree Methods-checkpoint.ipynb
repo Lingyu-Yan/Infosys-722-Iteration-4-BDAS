{
 "cells": [
  {
   "cell_type": "code",
   "execution_count": 24,
   "id": "b766d0ea",
   "metadata": {},
   "outputs": [],
   "source": [
    "import findspark\n",
    "findspark.init('/home/ubuntu/spark-3.2.1-bin-hadoop2.7')\n",
    "import pyspark\n",
    "from pyspark.sql import SparkSession\n",
    "spark = SparkSession.builder.appName('tree_methods').getOrCreate()\n",
    "\n",
    "from pyspark.ml import Pipeline\n",
    "from pyspark.ml.classification import (RandomForestClassifier, DecisionTreeClassifier)\n",
    "from pyspark.ml.evaluation import MulticlassClassificationEvaluator\n",
    "\n",
    "from pyspark.ml.linalg import Vectors\n",
    "from pyspark.ml.feature import VectorAssembler"
   ]
  },
  {
   "cell_type": "code",
   "execution_count": 25,
   "id": "cf461605",
   "metadata": {},
   "outputs": [
    {
     "name": "stdout",
     "output_type": "stream",
     "text": [
      "root\n",
      " |-- year: integer (nullable = true)\n",
      " |-- region: integer (nullable = true)\n",
      " |-- gender: integer (nullable = true)\n",
      " |-- year_born: integer (nullable = true)\n",
      " |-- education_tier: integer (nullable = true)\n",
      " |-- marriage_tier: integer (nullable = true)\n",
      " |-- income_tier: integer (nullable = true)\n",
      " |-- occupation_code: integer (nullable = true)\n",
      "\n"
     ]
    }
   ],
   "source": [
    "data = spark.read.load('Korea Income and Welfare Output.csv', format=\"csv\", header=True, inferSchema=True)\n",
    "\n",
    "#data.show()\n",
    "\n",
    "data.printSchema()"
   ]
  },
  {
   "cell_type": "code",
   "execution_count": 26,
   "id": "07e30bb1",
   "metadata": {},
   "outputs": [
    {
     "data": {
      "text/plain": [
       "['year',\n",
       " 'region',\n",
       " 'gender',\n",
       " 'year_born',\n",
       " 'education_tier',\n",
       " 'marriage_tier',\n",
       " 'income_tier',\n",
       " 'occupation_code']"
      ]
     },
     "execution_count": 26,
     "metadata": {},
     "output_type": "execute_result"
    }
   ],
   "source": [
    "data.columns"
   ]
  },
  {
   "cell_type": "code",
   "execution_count": 27,
   "id": "d7c89751",
   "metadata": {},
   "outputs": [],
   "source": [
    "assembler = VectorAssembler(\n",
    "  inputCols=['year',\n",
    "             'region',\n",
    "             'gender',\n",
    "             'year_born',\n",
    "             'education_tier',\n",
    "             'marriage_tier',\n",
    "             'occupation_code'],\n",
    "              outputCol=\"features\")"
   ]
  },
  {
   "cell_type": "code",
   "execution_count": 28,
   "id": "e71f2990",
   "metadata": {},
   "outputs": [],
   "source": [
    "output = assembler.transform(data)"
   ]
  },
  {
   "cell_type": "code",
   "execution_count": 30,
   "id": "158b853a",
   "metadata": {},
   "outputs": [
    {
     "name": "stdout",
     "output_type": "stream",
     "text": [
      "+--------------------+-----------+\n",
      "|            features|income_tier|\n",
      "+--------------------+-----------+\n",
      "|[2005.0,1.0,1.0,1...|          2|\n",
      "|[2006.0,1.0,1.0,1...|          2|\n",
      "|[2007.0,1.0,1.0,1...|          2|\n",
      "|[2008.0,1.0,1.0,1...|          2|\n",
      "|[2009.0,1.0,1.0,1...|          2|\n",
      "|[2010.0,1.0,1.0,1...|          2|\n",
      "|[2011.0,1.0,1.0,1...|          2|\n",
      "|[2012.0,1.0,1.0,1...|          2|\n",
      "|[2013.0,1.0,1.0,1...|          2|\n",
      "|[2014.0,1.0,1.0,1...|          2|\n",
      "|[2007.0,1.0,1.0,1...|          2|\n",
      "|[2008.0,1.0,1.0,1...|          2|\n",
      "|[2009.0,1.0,1.0,1...|          2|\n",
      "|[2012.0,1.0,1.0,1...|          2|\n",
      "|[2014.0,1.0,1.0,1...|          2|\n",
      "|[2015.0,1.0,1.0,1...|          2|\n",
      "|[2016.0,1.0,1.0,1...|          2|\n",
      "|[2017.0,1.0,1.0,1...|          2|\n",
      "|[2005.0,1.0,1.0,1...|          2|\n",
      "|[2006.0,1.0,1.0,1...|          2|\n",
      "+--------------------+-----------+\n",
      "only showing top 20 rows\n",
      "\n"
     ]
    }
   ],
   "source": [
    "#from pyspark.ml.feature import StringIndexer\n",
    "\n",
    "#indexer = StringIndexer(inputCol=\"income_tier\", outputCol=\"income_tier_Index\")\n",
    "#output_fixed = indexer.fit(output).transform(output)\n",
    "\n",
    "final_data = output.select(\"features\",'income_tier')\n",
    "\n",
    "final_data.show()"
   ]
  },
  {
   "cell_type": "code",
   "execution_count": 33,
   "id": "3e1b7476",
   "metadata": {},
   "outputs": [
    {
     "name": "stderr",
     "output_type": "stream",
     "text": [
      "\r",
      "[Stage 84:=============================>                            (1 + 1) / 2]\r",
      "\r",
      "                                                                                \r"
     ]
    },
    {
     "name": "stdout",
     "output_type": "stream",
     "text": [
      "42805\n",
      "10764\n"
     ]
    }
   ],
   "source": [
    "(train_data,test_data) = final_data.randomSplit([0.8,0.2])\n",
    "\n",
    "print(train_data.count())\n",
    "print(test_data.count())"
   ]
  },
  {
   "cell_type": "code",
   "execution_count": 34,
   "id": "53de9918",
   "metadata": {},
   "outputs": [],
   "source": [
    "dtc = DecisionTreeClassifier(labelCol='income_tier',featuresCol='features')\n",
    "rfc = RandomForestClassifier(labelCol='income_tier',featuresCol='features',numTrees=100)"
   ]
  },
  {
   "cell_type": "code",
   "execution_count": 35,
   "id": "c832d8de",
   "metadata": {},
   "outputs": [
    {
     "name": "stderr",
     "output_type": "stream",
     "text": [
      "                                                                                \r"
     ]
    }
   ],
   "source": [
    "dtc_model = dtc.fit(train_data)\n",
    "rfc_model = rfc.fit(train_data)"
   ]
  },
  {
   "cell_type": "code",
   "execution_count": 37,
   "id": "6493d0db",
   "metadata": {},
   "outputs": [
    {
     "name": "stdout",
     "output_type": "stream",
     "text": [
      "+--------------------+-----------+--------------------+--------------------+----------+\n",
      "|            features|income_tier|       rawPrediction|         probability|prediction|\n",
      "+--------------------+-----------+--------------------+--------------------+----------+\n",
      "|[2005.0,1.0,1.0,1...|          2|[0.0,73.079330131...|[0.0,0.7307933013...|       1.0|\n",
      "|[2005.0,1.0,1.0,1...|          1|[0.0,33.249209155...|[0.0,0.3324920915...|       2.0|\n",
      "|[2005.0,1.0,1.0,1...|          1|[0.0,33.249209155...|[0.0,0.3324920915...|       2.0|\n",
      "|[2005.0,1.0,1.0,1...|          1|[0.0,33.249209155...|[0.0,0.3324920915...|       2.0|\n",
      "|[2005.0,1.0,1.0,1...|          1|[0.0,33.249209155...|[0.0,0.3324920915...|       2.0|\n",
      "|[2005.0,1.0,1.0,1...|          1|[0.0,33.249209155...|[0.0,0.3324920915...|       2.0|\n",
      "|[2005.0,1.0,1.0,1...|          1|[0.0,33.249209155...|[0.0,0.3324920915...|       2.0|\n",
      "|[2005.0,1.0,1.0,1...|          1|[0.0,33.249209155...|[0.0,0.3324920915...|       2.0|\n",
      "|[2005.0,1.0,1.0,1...|          1|[0.0,33.249209155...|[0.0,0.3324920915...|       2.0|\n",
      "|[2005.0,1.0,1.0,1...|          2|[0.0,38.113562283...|[0.0,0.3811356228...|       2.0|\n",
      "|[2005.0,1.0,1.0,1...|          2|[0.0,38.113562283...|[0.0,0.3811356228...|       2.0|\n",
      "|[2005.0,1.0,1.0,1...|          3|[0.0,19.371540607...|[0.0,0.1937154060...|       3.0|\n",
      "|[2005.0,1.0,1.0,1...|          3|[0.0,19.278941104...|[0.0,0.1927894110...|       3.0|\n",
      "|[2005.0,1.0,1.0,1...|          3|[0.0,33.261416653...|[0.0,0.3326141665...|       2.0|\n",
      "|[2005.0,1.0,1.0,1...|          1|[0.0,32.955989988...|[0.0,0.3295598998...|       2.0|\n",
      "|[2005.0,1.0,1.0,1...|          1|[0.0,32.955989988...|[0.0,0.3295598998...|       2.0|\n",
      "|[2005.0,1.0,1.0,1...|          1|[0.0,32.955989988...|[0.0,0.3295598998...|       2.0|\n",
      "|[2005.0,1.0,1.0,1...|          1|[0.0,32.955989988...|[0.0,0.3295598998...|       2.0|\n",
      "|[2005.0,1.0,1.0,1...|          1|[0.0,32.955989988...|[0.0,0.3295598998...|       2.0|\n",
      "|[2005.0,1.0,1.0,1...|          2|[0.0,37.719070890...|[0.0,0.3771907089...|       2.0|\n",
      "+--------------------+-----------+--------------------+--------------------+----------+\n",
      "only showing top 20 rows\n",
      "\n"
     ]
    },
    {
     "name": "stderr",
     "output_type": "stream",
     "text": [
      "\r",
      "[Stage 124:>                                                        (0 + 1) / 1]\r",
      "\r",
      "                                                                                \r"
     ]
    }
   ],
   "source": [
    "dtc_predictions = dtc_model.transform(test_data)\n",
    "rfc_predictions = rfc_model.transform(test_data)\n",
    "\n",
    "rfc_predictions.show()"
   ]
  },
  {
   "cell_type": "code",
   "execution_count": 38,
   "id": "da2ae8d2",
   "metadata": {},
   "outputs": [],
   "source": [
    "from pyspark.ml.evaluation import MulticlassClassificationEvaluator"
   ]
  },
  {
   "cell_type": "code",
   "execution_count": 39,
   "id": "57908a15",
   "metadata": {},
   "outputs": [
    {
     "name": "stderr",
     "output_type": "stream",
     "text": [
      "                                                                                \r"
     ]
    }
   ],
   "source": [
    "acc_evaluator = MulticlassClassificationEvaluator(labelCol=\"income_tier\", predictionCol=\"prediction\", metricName=\"accuracy\")\n",
    "\n",
    "dtc_acc = acc_evaluator.evaluate(dtc_predictions)\n",
    "rfc_acc = acc_evaluator.evaluate(rfc_predictions)"
   ]
  },
  {
   "cell_type": "code",
   "execution_count": 40,
   "id": "af3ab2d6",
   "metadata": {},
   "outputs": [
    {
     "name": "stdout",
     "output_type": "stream",
     "text": [
      "Here are the results!\n",
      "----------------------------------------\n",
      "A single decision tree has an accuracy of: 53.63%\n",
      "----------------------------------------\n",
      "A random forest ensemble has an accuracy of: 54.33%\n"
     ]
    }
   ],
   "source": [
    "print(\"Here are the results!\")\n",
    "print('-'*40)\n",
    "print('A single decision tree has an accuracy of: {0:2.2f}%'.format(dtc_acc*100))\n",
    "print('-'*40)\n",
    "print('A random forest ensemble has an accuracy of: {0:2.2f}%'.format(rfc_acc*100))"
   ]
  },
  {
   "cell_type": "code",
   "execution_count": null,
   "id": "b3a37401",
   "metadata": {},
   "outputs": [],
   "source": []
  }
 ],
 "metadata": {
  "kernelspec": {
   "display_name": "Python 3 (ipykernel)",
   "language": "python",
   "name": "python3"
  },
  "language_info": {
   "codemirror_mode": {
    "name": "ipython",
    "version": 3
   },
   "file_extension": ".py",
   "mimetype": "text/x-python",
   "name": "python",
   "nbconvert_exporter": "python",
   "pygments_lexer": "ipython3",
   "version": "3.10.4"
  }
 },
 "nbformat": 4,
 "nbformat_minor": 5
}
