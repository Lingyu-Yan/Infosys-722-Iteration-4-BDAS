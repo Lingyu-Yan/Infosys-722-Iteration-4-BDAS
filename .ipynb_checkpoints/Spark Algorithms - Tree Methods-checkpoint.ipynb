{
 "cells": [
  {
   "cell_type": "code",
   "execution_count": 5,
   "id": "b766d0ea",
   "metadata": {},
   "outputs": [],
   "source": [
    "import findspark\n",
    "findspark.init('/home/ubuntu/spark-3.2.1-bin-hadoop2.7')\n",
    "import pyspark\n",
    "from pyspark.sql import SparkSession\n",
    "spark = SparkSession.builder.appName('tree_methods').getOrCreate()\n",
    "\n",
    "from pyspark.ml import Pipeline\n",
    "from pyspark.ml.classification import (RandomForestClassifier, GBTClassifier, DecisionTreeClassifier)\n",
    "from pyspark.ml.evaluation import MulticlassClassificationEvaluator"
   ]
  },
  {
   "cell_type": "code",
   "execution_count": 6,
   "id": "cf461605",
   "metadata": {},
   "outputs": [
    {
     "name": "stdout",
     "output_type": "stream",
     "text": [
      "+----+------+------+---------+--------------+-------------+-----------+---------------+\n",
      "|year|region|gender|year_born|education_tier|marriage_tier|income_tier|occupation_code|\n",
      "+----+------+------+---------+--------------+-------------+-----------+---------------+\n",
      "|2005|     1|     1|     1962|             2|            1|          2|             51|\n",
      "|2006|     1|     1|     1962|             2|            1|          2|             51|\n",
      "|2007|     1|     1|     1962|             2|            1|          2|             51|\n",
      "|2008|     1|     1|     1962|             2|            1|          2|             53|\n",
      "|2009|     1|     1|     1962|             2|            1|          2|             53|\n",
      "|2010|     1|     1|     1962|             2|            1|          2|             53|\n",
      "|2011|     1|     1|     1962|             2|            1|          2|             53|\n",
      "|2012|     1|     1|     1962|             2|            1|          2|             53|\n",
      "|2013|     1|     1|     1962|             2|            1|          2|             53|\n",
      "|2014|     1|     1|     1962|             2|            1|          2|             53|\n",
      "|2007|     1|     1|     1978|             3|            1|          2|             31|\n",
      "|2008|     1|     1|     1978|             3|            1|          2|             31|\n",
      "|2009|     1|     1|     1978|             3|            1|          2|             31|\n",
      "|2012|     1|     1|     1978|             3|            1|          2|             31|\n",
      "|2014|     1|     1|     1964|             1|            0|          2|             53|\n",
      "|2015|     1|     1|     1964|             1|            0|          2|             53|\n",
      "|2016|     1|     1|     1964|             1|            0|          2|             53|\n",
      "|2017|     1|     1|     1964|             1|            0|          2|             53|\n",
      "|2005|     1|     1|     1975|             3|            0|          2|             41|\n",
      "|2006|     1|     1|     1975|             3|            0|          2|             41|\n",
      "+----+------+------+---------+--------------+-------------+-----------+---------------+\n",
      "only showing top 20 rows\n",
      "\n",
      "root\n",
      " |-- year: integer (nullable = true)\n",
      " |-- region: integer (nullable = true)\n",
      " |-- gender: integer (nullable = true)\n",
      " |-- year_born: integer (nullable = true)\n",
      " |-- education_tier: integer (nullable = true)\n",
      " |-- marriage_tier: integer (nullable = true)\n",
      " |-- income_tier: integer (nullable = true)\n",
      " |-- occupation_code: integer (nullable = true)\n",
      "\n"
     ]
    }
   ],
   "source": [
    "data = spark.read.load('Korea Income and Welfare Output.csv', format=\"csv\", header=True, inferSchema=True)\n",
    "\n",
    "data.show()\n",
    "\n",
    "data.printSchema()"
   ]
  }
 ],
 "metadata": {
  "kernelspec": {
   "display_name": "Python 3 (ipykernel)",
   "language": "python",
   "name": "python3"
  },
  "language_info": {
   "codemirror_mode": {
    "name": "ipython",
    "version": 3
   },
   "file_extension": ".py",
   "mimetype": "text/x-python",
   "name": "python",
   "nbconvert_exporter": "python",
   "pygments_lexer": "ipython3",
   "version": "3.10.4"
  }
 },
 "nbformat": 4,
 "nbformat_minor": 5
}
